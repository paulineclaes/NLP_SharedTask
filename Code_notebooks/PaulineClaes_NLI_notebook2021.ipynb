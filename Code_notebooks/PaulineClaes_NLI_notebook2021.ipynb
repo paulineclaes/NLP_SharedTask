{
 "cells": [
  {
   "cell_type": "markdown",
   "id": "requested-destruction",
   "metadata": {},
   "source": [
    "# NLP Shared Task 2021\n",
    "\n",
    "## Native Language Identification\n",
    "Pauline Claes"
   ]
  },
  {
   "cell_type": "markdown",
   "id": "found-soccer",
   "metadata": {},
   "source": [
    "## 1. Loading modules"
   ]
  },
  {
   "cell_type": "code",
   "execution_count": 18,
   "id": "separate-australia",
   "metadata": {},
   "outputs": [
    {
     "name": "stderr",
     "output_type": "stream",
     "text": [
      "[nltk_data] Downloading package punkt to\n",
      "[nltk_data]     /Users/paulineclaes/nltk_data...\n",
      "[nltk_data]   Package punkt is already up-to-date!\n"
     ]
    }
   ],
   "source": [
    "import pandas as pd\n",
    "import numpy as np\n",
    "import seaborn as sn \n",
    "import matplotlib.pyplot as plt\n",
    "\n",
    "import sklearn\n",
    "from sklearn.feature_extraction.text import CountVectorizer, TfidfVectorizer\n",
    "from sklearn.preprocessing import StandardScaler, FunctionTransformer\n",
    "from sklearn.model_selection import train_test_split, StratifiedKFold, cross_val_score, RandomizedSearchCV\n",
    "from sklearn.pipeline import make_pipeline\n",
    "from sklearn.linear_model import SGDClassifier, LogisticRegression\n",
    "from sklearn.svm import SVC, LinearSVC\n",
    "from sklearn.metrics import classification_report, confusion_matrix, plot_confusion_matrix, accuracy_score, f1_score\n",
    "from sklearn.compose import make_column_transformer\n",
    "from sklearn.ensemble import StackingClassifier\n",
    "from sklearn.feature_extraction import DictVectorizer\n",
    "\n",
    "import nltk\n",
    "from nltk.tokenize import word_tokenize\n",
    "nltk__word_tokenizer = word_tokenize\n",
    "nltk.download(\"punkt\")\n",
    "import spacy\n",
    "nlp = spacy.load(\"en_core_web_sm\")\n",
    "from spacy.lang.en import English\n",
    "from nltk.corpus import stopwords\n",
    "stop_words_list = set(stopwords.words(\"english\"))\n",
    "\n",
    "\n",
    "np.random.seed(1)"
   ]
  },
  {
   "cell_type": "markdown",
   "id": "better-processor",
   "metadata": {},
   "source": [
    "## 2. Preprocessing of the train data set"
   ]
  },
  {
   "cell_type": "code",
   "execution_count": 2,
   "id": "promising-formula",
   "metadata": {},
   "outputs": [],
   "source": [
    "df = pd.read_csv(\"train.csv\")"
   ]
  },
  {
   "cell_type": "code",
   "execution_count": 3,
   "id": "criminal-basic",
   "metadata": {
    "scrolled": true
   },
   "outputs": [
    {
     "data": {
      "text/plain": [
       "TUR    1000\n",
       "KOR    1000\n",
       "JPN    1000\n",
       "ARA    1000\n",
       "FRA    1000\n",
       "TEL    1000\n",
       "ITA    1000\n",
       "SPA    1000\n",
       "HIN    1000\n",
       "DEU    1000\n",
       "ZHO    1000\n",
       "Name: Language, dtype: int64"
      ]
     },
     "execution_count": 3,
     "metadata": {},
     "output_type": "execute_result"
    }
   ],
   "source": [
    "df.Language.value_counts()"
   ]
  },
  {
   "cell_type": "code",
   "execution_count": 4,
   "id": "fewer-crest",
   "metadata": {},
   "outputs": [
    {
     "data": {
      "text/html": [
       "<div>\n",
       "<style scoped>\n",
       "    .dataframe tbody tr th:only-of-type {\n",
       "        vertical-align: middle;\n",
       "    }\n",
       "\n",
       "    .dataframe tbody tr th {\n",
       "        vertical-align: top;\n",
       "    }\n",
       "\n",
       "    .dataframe thead th {\n",
       "        text-align: right;\n",
       "    }\n",
       "</style>\n",
       "<table border=\"1\" class=\"dataframe\">\n",
       "  <thead>\n",
       "    <tr style=\"text-align: right;\">\n",
       "      <th></th>\n",
       "      <th>Filename</th>\n",
       "      <th>text</th>\n",
       "      <th>Language</th>\n",
       "      <th>Proficiency</th>\n",
       "    </tr>\n",
       "  </thead>\n",
       "  <tbody>\n",
       "    <tr>\n",
       "      <th>0</th>\n",
       "      <td>88.txt</td>\n",
       "      <td>Some people might think that traveling in a gr...</td>\n",
       "      <td>KOR</td>\n",
       "      <td>high</td>\n",
       "    </tr>\n",
       "    <tr>\n",
       "      <th>1</th>\n",
       "      <td>278.txt</td>\n",
       "      <td>IThe importance and popularity of travelling i...</td>\n",
       "      <td>DEU</td>\n",
       "      <td>medium</td>\n",
       "    </tr>\n",
       "    <tr>\n",
       "      <th>2</th>\n",
       "      <td>348.txt</td>\n",
       "      <td>It is an important decision, how to plan your ...</td>\n",
       "      <td>TUR</td>\n",
       "      <td>high</td>\n",
       "    </tr>\n",
       "    <tr>\n",
       "      <th>3</th>\n",
       "      <td>666.txt</td>\n",
       "      <td>Some people believe that young people can enjo...</td>\n",
       "      <td>ZHO</td>\n",
       "      <td>medium</td>\n",
       "    </tr>\n",
       "    <tr>\n",
       "      <th>4</th>\n",
       "      <td>733.txt</td>\n",
       "      <td>Travelling is  usually considered as good recr...</td>\n",
       "      <td>TEL</td>\n",
       "      <td>medium</td>\n",
       "    </tr>\n",
       "  </tbody>\n",
       "</table>\n",
       "</div>"
      ],
      "text/plain": [
       "  Filename                                               text Language  \\\n",
       "0   88.txt  Some people might think that traveling in a gr...      KOR   \n",
       "1  278.txt  IThe importance and popularity of travelling i...      DEU   \n",
       "2  348.txt  It is an important decision, how to plan your ...      TUR   \n",
       "3  666.txt  Some people believe that young people can enjo...      ZHO   \n",
       "4  733.txt  Travelling is  usually considered as good recr...      TEL   \n",
       "\n",
       "  Proficiency  \n",
       "0        high  \n",
       "1      medium  \n",
       "2        high  \n",
       "3      medium  \n",
       "4      medium  "
      ]
     },
     "execution_count": 4,
     "metadata": {},
     "output_type": "execute_result"
    }
   ],
   "source": [
    "df.head()"
   ]
  },
  {
   "cell_type": "code",
   "execution_count": 8,
   "id": "hollywood-strategy",
   "metadata": {},
   "outputs": [],
   "source": [
    "def pos_tag(doc):\n",
    "    return \" \".join([token.tag_ for token in nlp(doc)])\n",
    "\n",
    "def lemmatizer(doc):\n",
    "    return \" \".join([token.lemma_ for token in nlp(doc)])\n",
    "\n",
    "def stop_words(doc):\n",
    "    return \" \".join([w for w in doc.lower().split() if w in stop_words_list])"
   ]
  },
  {
   "cell_type": "code",
   "execution_count": 10,
   "id": "continuous-boating",
   "metadata": {},
   "outputs": [],
   "source": [
    "# adding pos_tag column\n",
    "df[\"pos_tags\"] = df.text.apply(pos_tag)"
   ]
  },
  {
   "cell_type": "code",
   "execution_count": 7,
   "id": "weekly-incidence",
   "metadata": {},
   "outputs": [],
   "source": [
    "# adding lemmatized text column\n",
    "df[\"lemma_text\"] = df.text.apply(lemmatizer)"
   ]
  },
  {
   "cell_type": "code",
   "execution_count": 8,
   "id": "transsexual-destruction",
   "metadata": {},
   "outputs": [],
   "source": [
    "# adding column with stop_words (function words)\n",
    "df[\"stop_words\"] = df.text.apply(stop_words)"
   ]
  },
  {
   "cell_type": "code",
   "execution_count": 9,
   "id": "given-proposal",
   "metadata": {},
   "outputs": [],
   "source": [
    "# adding column with text length in number of words\n",
    "df[\"n_words\"] = df[\"text\"].str.split().str.len()"
   ]
  },
  {
   "cell_type": "code",
   "execution_count": 10,
   "id": "tired-anthony",
   "metadata": {},
   "outputs": [],
   "source": [
    "# adding column with text length in number of sentences\n",
    "df[\"n_sentences\"] = [text.count(\".\") for text in df[\"text\"]]"
   ]
  },
  {
   "cell_type": "code",
   "execution_count": 11,
   "id": "raising-recorder",
   "metadata": {},
   "outputs": [],
   "source": [
    "# adding column with text length in number of characters\n",
    "df[\"doc_length\"] = df.text.apply(len)"
   ]
  },
  {
   "cell_type": "code",
   "execution_count": 12,
   "id": "formal-australia",
   "metadata": {},
   "outputs": [],
   "source": [
    "# saving preprocessed DataFrame to CSV, to not have to run it again \n",
    "# every time. This df will be read in again, and we will move forward\n",
    "# with this dataframe.\n",
    "# df.to_csv(\"train_preprocessed.csv\", index=False)"
   ]
  },
  {
   "cell_type": "code",
   "execution_count": 5,
   "id": "absent-parallel",
   "metadata": {},
   "outputs": [],
   "source": [
    "df = pd.read_csv(\"train_preprocessed.csv\")"
   ]
  },
  {
   "cell_type": "code",
   "execution_count": 6,
   "id": "exciting-prayer",
   "metadata": {},
   "outputs": [
    {
     "data": {
      "text/html": [
       "<div>\n",
       "<style scoped>\n",
       "    .dataframe tbody tr th:only-of-type {\n",
       "        vertical-align: middle;\n",
       "    }\n",
       "\n",
       "    .dataframe tbody tr th {\n",
       "        vertical-align: top;\n",
       "    }\n",
       "\n",
       "    .dataframe thead th {\n",
       "        text-align: right;\n",
       "    }\n",
       "</style>\n",
       "<table border=\"1\" class=\"dataframe\">\n",
       "  <thead>\n",
       "    <tr style=\"text-align: right;\">\n",
       "      <th></th>\n",
       "      <th>Filename</th>\n",
       "      <th>text</th>\n",
       "      <th>Language</th>\n",
       "      <th>Proficiency</th>\n",
       "      <th>pos_tags</th>\n",
       "      <th>lemma_text</th>\n",
       "      <th>n_words</th>\n",
       "      <th>n_sentences</th>\n",
       "      <th>doc_length</th>\n",
       "      <th>stop_words</th>\n",
       "    </tr>\n",
       "  </thead>\n",
       "  <tbody>\n",
       "    <tr>\n",
       "      <th>0</th>\n",
       "      <td>88.txt</td>\n",
       "      <td>Some people might think that traveling in a gr...</td>\n",
       "      <td>KOR</td>\n",
       "      <td>high</td>\n",
       "      <td>DT NNS MD VB IN VBG IN DT NN VBN IN DT NN NN V...</td>\n",
       "      <td>some people may think that travel in a group l...</td>\n",
       "      <td>384</td>\n",
       "      <td>16</td>\n",
       "      <td>1940</td>\n",
       "      <td>some that in a by a is a a has its and does no...</td>\n",
       "    </tr>\n",
       "    <tr>\n",
       "      <th>1</th>\n",
       "      <td>278.txt</td>\n",
       "      <td>IThe importance and popularity of travelling i...</td>\n",
       "      <td>DEU</td>\n",
       "      <td>medium</td>\n",
       "      <td>IN NN CC NN IN VBG VBZ RB VBG , _SP NN VBZ JJ ...</td>\n",
       "      <td>ithe importance and popularity of travel be st...</td>\n",
       "      <td>321</td>\n",
       "      <td>13</td>\n",
       "      <td>1645</td>\n",
       "      <td>and of is is in to other and but the how to do...</td>\n",
       "    </tr>\n",
       "    <tr>\n",
       "      <th>2</th>\n",
       "      <td>348.txt</td>\n",
       "      <td>It is an important decision, how to plan your ...</td>\n",
       "      <td>TUR</td>\n",
       "      <td>high</td>\n",
       "      <td>PRP VBZ DT JJ NN , WRB TO VB PRP$ NN . DT NNS ...</td>\n",
       "      <td>-PRON- be an important decision , how to plan ...</td>\n",
       "      <td>360</td>\n",
       "      <td>15</td>\n",
       "      <td>2022</td>\n",
       "      <td>it is an how to your some to a of and their so...</td>\n",
       "    </tr>\n",
       "    <tr>\n",
       "      <th>3</th>\n",
       "      <td>666.txt</td>\n",
       "      <td>Some people believe that young people can enjo...</td>\n",
       "      <td>ZHO</td>\n",
       "      <td>medium</td>\n",
       "      <td>DT NNS VBP IN JJ NNS MD VB NN JJR IN JJR NN VB...</td>\n",
       "      <td>some people believe that young people can enjo...</td>\n",
       "      <td>347</td>\n",
       "      <td>26</td>\n",
       "      <td>1891</td>\n",
       "      <td>some that can more than from my of the is the ...</td>\n",
       "    </tr>\n",
       "    <tr>\n",
       "      <th>4</th>\n",
       "      <td>733.txt</td>\n",
       "      <td>Travelling is  usually considered as good recr...</td>\n",
       "      <td>TEL</td>\n",
       "      <td>medium</td>\n",
       "      <td>NNP VBZ _SP RB VBN IN JJ NN _SP IN JJ NNS , IN...</td>\n",
       "      <td>Travelling be   usually consider as good recre...</td>\n",
       "      <td>349</td>\n",
       "      <td>13</td>\n",
       "      <td>1862</td>\n",
       "      <td>is as by as for and it is to have some and a w...</td>\n",
       "    </tr>\n",
       "  </tbody>\n",
       "</table>\n",
       "</div>"
      ],
      "text/plain": [
       "  Filename                                               text Language  \\\n",
       "0   88.txt  Some people might think that traveling in a gr...      KOR   \n",
       "1  278.txt  IThe importance and popularity of travelling i...      DEU   \n",
       "2  348.txt  It is an important decision, how to plan your ...      TUR   \n",
       "3  666.txt  Some people believe that young people can enjo...      ZHO   \n",
       "4  733.txt  Travelling is  usually considered as good recr...      TEL   \n",
       "\n",
       "  Proficiency                                           pos_tags  \\\n",
       "0        high  DT NNS MD VB IN VBG IN DT NN VBN IN DT NN NN V...   \n",
       "1      medium  IN NN CC NN IN VBG VBZ RB VBG , _SP NN VBZ JJ ...   \n",
       "2        high  PRP VBZ DT JJ NN , WRB TO VB PRP$ NN . DT NNS ...   \n",
       "3      medium  DT NNS VBP IN JJ NNS MD VB NN JJR IN JJR NN VB...   \n",
       "4      medium  NNP VBZ _SP RB VBN IN JJ NN _SP IN JJ NNS , IN...   \n",
       "\n",
       "                                          lemma_text  n_words  n_sentences  \\\n",
       "0  some people may think that travel in a group l...      384           16   \n",
       "1  ithe importance and popularity of travel be st...      321           13   \n",
       "2  -PRON- be an important decision , how to plan ...      360           15   \n",
       "3  some people believe that young people can enjo...      347           26   \n",
       "4  Travelling be   usually consider as good recre...      349           13   \n",
       "\n",
       "   doc_length                                         stop_words  \n",
       "0        1940  some that in a by a is a a has its and does no...  \n",
       "1        1645  and of is is in to other and but the how to do...  \n",
       "2        2022  it is an how to your some to a of and their so...  \n",
       "3        1891  some that can more than from my of the is the ...  \n",
       "4        1862  is as by as for and it is to have some and a w...  "
      ]
     },
     "execution_count": 6,
     "metadata": {},
     "output_type": "execute_result"
    }
   ],
   "source": [
    "df.head(5)"
   ]
  },
  {
   "cell_type": "code",
   "execution_count": 33,
   "id": "direct-polyester",
   "metadata": {},
   "outputs": [
    {
     "name": "stdout",
     "output_type": "stream",
     "text": [
      "<class 'pandas.core.frame.DataFrame'>\n",
      "RangeIndex: 11000 entries, 0 to 10999\n",
      "Data columns (total 10 columns):\n",
      " #   Column       Non-Null Count  Dtype \n",
      "---  ------       --------------  ----- \n",
      " 0   Filename     11000 non-null  object\n",
      " 1   text         11000 non-null  object\n",
      " 2   Language     11000 non-null  object\n",
      " 3   Proficiency  11000 non-null  object\n",
      " 4   pos_tags     11000 non-null  object\n",
      " 5   lemma_text   11000 non-null  object\n",
      " 6   n_words      11000 non-null  int64 \n",
      " 7   n_sentences  11000 non-null  int64 \n",
      " 8   doc_length   11000 non-null  int64 \n",
      " 9   stop_words   11000 non-null  object\n",
      "dtypes: int64(3), object(7)\n",
      "memory usage: 859.5+ KB\n"
     ]
    }
   ],
   "source": [
    "df.info()"
   ]
  },
  {
   "cell_type": "code",
   "execution_count": 34,
   "id": "sixth-coaching",
   "metadata": {},
   "outputs": [
    {
     "data": {
      "text/html": [
       "<div>\n",
       "<style scoped>\n",
       "    .dataframe tbody tr th:only-of-type {\n",
       "        vertical-align: middle;\n",
       "    }\n",
       "\n",
       "    .dataframe tbody tr th {\n",
       "        vertical-align: top;\n",
       "    }\n",
       "\n",
       "    .dataframe thead th {\n",
       "        text-align: right;\n",
       "    }\n",
       "</style>\n",
       "<table border=\"1\" class=\"dataframe\">\n",
       "  <thead>\n",
       "    <tr style=\"text-align: right;\">\n",
       "      <th></th>\n",
       "      <th>n_words</th>\n",
       "      <th>n_sentences</th>\n",
       "      <th>doc_length</th>\n",
       "    </tr>\n",
       "  </thead>\n",
       "  <tbody>\n",
       "    <tr>\n",
       "      <th>count</th>\n",
       "      <td>11000.000000</td>\n",
       "      <td>11000.000000</td>\n",
       "      <td>11000.000000</td>\n",
       "    </tr>\n",
       "    <tr>\n",
       "      <th>mean</th>\n",
       "      <td>315.093182</td>\n",
       "      <td>16.100909</td>\n",
       "      <td>1787.637182</td>\n",
       "    </tr>\n",
       "    <tr>\n",
       "      <th>std</th>\n",
       "      <td>77.407150</td>\n",
       "      <td>5.716632</td>\n",
       "      <td>517.057569</td>\n",
       "    </tr>\n",
       "    <tr>\n",
       "      <th>min</th>\n",
       "      <td>2.000000</td>\n",
       "      <td>0.000000</td>\n",
       "      <td>9.000000</td>\n",
       "    </tr>\n",
       "    <tr>\n",
       "      <th>25%</th>\n",
       "      <td>278.000000</td>\n",
       "      <td>12.000000</td>\n",
       "      <td>1567.000000</td>\n",
       "    </tr>\n",
       "    <tr>\n",
       "      <th>50%</th>\n",
       "      <td>315.000000</td>\n",
       "      <td>16.000000</td>\n",
       "      <td>1784.000000</td>\n",
       "    </tr>\n",
       "    <tr>\n",
       "      <th>75%</th>\n",
       "      <td>355.000000</td>\n",
       "      <td>20.000000</td>\n",
       "      <td>2017.000000</td>\n",
       "    </tr>\n",
       "    <tr>\n",
       "      <th>max</th>\n",
       "      <td>799.000000</td>\n",
       "      <td>74.000000</td>\n",
       "      <td>29870.000000</td>\n",
       "    </tr>\n",
       "  </tbody>\n",
       "</table>\n",
       "</div>"
      ],
      "text/plain": [
       "            n_words   n_sentences    doc_length\n",
       "count  11000.000000  11000.000000  11000.000000\n",
       "mean     315.093182     16.100909   1787.637182\n",
       "std       77.407150      5.716632    517.057569\n",
       "min        2.000000      0.000000      9.000000\n",
       "25%      278.000000     12.000000   1567.000000\n",
       "50%      315.000000     16.000000   1784.000000\n",
       "75%      355.000000     20.000000   2017.000000\n",
       "max      799.000000     74.000000  29870.000000"
      ]
     },
     "execution_count": 34,
     "metadata": {},
     "output_type": "execute_result"
    }
   ],
   "source": [
    "df.describe()"
   ]
  },
  {
   "cell_type": "code",
   "execution_count": 50,
   "id": "exempt-constitutional",
   "metadata": {},
   "outputs": [
    {
     "data": {
      "text/plain": [
       "HIN    1000\n",
       "SPA    1000\n",
       "FRA    1000\n",
       "JPN    1000\n",
       "TUR    1000\n",
       "DEU    1000\n",
       "KOR    1000\n",
       "ARA    1000\n",
       "ITA    1000\n",
       "ZHO    1000\n",
       "TEL    1000\n",
       "Name: Language, dtype: int64"
      ]
     },
     "execution_count": 50,
     "metadata": {},
     "output_type": "execute_result"
    }
   ],
   "source": [
    "df.Language.value_counts()"
   ]
  },
  {
   "cell_type": "code",
   "execution_count": 36,
   "id": "japanese-native",
   "metadata": {},
   "outputs": [],
   "source": [
    "X = df.text.values\n",
    "y = df.Language.values"
   ]
  },
  {
   "cell_type": "code",
   "execution_count": 37,
   "id": "after-gambling",
   "metadata": {},
   "outputs": [],
   "source": [
    "X_train, X_dev, y_train, y_dev = train_test_split(X,\n",
    "                                                  y, \n",
    "                                                  test_size=0.1,\n",
    "                                                  random_state=1,\n",
    "                                                  shuffle=True,\n",
    "                                                  stratify=y)"
   ]
  },
  {
   "cell_type": "markdown",
   "id": "cordless-place",
   "metadata": {},
   "source": [
    "## 3. Baselines"
   ]
  },
  {
   "cell_type": "markdown",
   "id": "toxic-photograph",
   "metadata": {},
   "source": [
    "### 3.1. Dummy Classifier"
   ]
  },
  {
   "cell_type": "code",
   "execution_count": 39,
   "id": "ready-induction",
   "metadata": {},
   "outputs": [],
   "source": [
    "from sklearn.dummy import DummyClassifier"
   ]
  },
  {
   "cell_type": "markdown",
   "id": "catholic-holder",
   "metadata": {},
   "source": [
    "#### 3.1.1. Dummy Classifier with CountVectorizer"
   ]
  },
  {
   "cell_type": "code",
   "execution_count": 40,
   "id": "duplicate-simpson",
   "metadata": {},
   "outputs": [],
   "source": [
    "cvect = CountVectorizer()\n",
    "dummy_clf = DummyClassifier(strategy=\"stratified\", random_state=1)"
   ]
  },
  {
   "cell_type": "code",
   "execution_count": 41,
   "id": "regulated-presentation",
   "metadata": {},
   "outputs": [],
   "source": [
    "X_train_cvect = cvect.fit_transform(X_train)\n",
    "X_dev_cvect = cvect.transform(X_dev)"
   ]
  },
  {
   "cell_type": "code",
   "execution_count": 43,
   "id": "afraid-clarity",
   "metadata": {},
   "outputs": [
    {
     "data": {
      "text/plain": [
       "DummyClassifier(random_state=1, strategy='stratified')"
      ]
     },
     "execution_count": 43,
     "metadata": {},
     "output_type": "execute_result"
    }
   ],
   "source": [
    "dummy_clf.fit(X_train_cvect, y_train)"
   ]
  },
  {
   "cell_type": "code",
   "execution_count": 44,
   "id": "exact-messenger",
   "metadata": {},
   "outputs": [],
   "source": [
    "y_pred_dummy = dummy_clf.predict(X_dev_cvect)"
   ]
  },
  {
   "cell_type": "code",
   "execution_count": 45,
   "id": "contained-southeast",
   "metadata": {
    "scrolled": true
   },
   "outputs": [
    {
     "name": "stdout",
     "output_type": "stream",
     "text": [
      "0.08363636363636363\n"
     ]
    }
   ],
   "source": [
    "print(accuracy_score(y_dev, y_pred_dummy))"
   ]
  },
  {
   "cell_type": "code",
   "execution_count": 46,
   "id": "corrected-mount",
   "metadata": {},
   "outputs": [
    {
     "name": "stdout",
     "output_type": "stream",
     "text": [
      "              precision    recall  f1-score   support\n",
      "\n",
      "         ARA       0.06      0.05      0.05       100\n",
      "         DEU       0.08      0.09      0.08       100\n",
      "         FRA       0.09      0.09      0.09       100\n",
      "         HIN       0.07      0.08      0.08       100\n",
      "         ITA       0.06      0.05      0.06       100\n",
      "         JPN       0.09      0.09      0.09       100\n",
      "         KOR       0.08      0.08      0.08       100\n",
      "         SPA       0.07      0.07      0.07       100\n",
      "         TEL       0.14      0.17      0.16       100\n",
      "         TUR       0.11      0.12      0.12       100\n",
      "         ZHO       0.03      0.03      0.03       100\n",
      "\n",
      "    accuracy                           0.08      1100\n",
      "   macro avg       0.08      0.08      0.08      1100\n",
      "weighted avg       0.08      0.08      0.08      1100\n",
      "\n"
     ]
    }
   ],
   "source": [
    "print(classification_report(y_dev, y_pred_dummy))"
   ]
  },
  {
   "cell_type": "markdown",
   "id": "removed-titanium",
   "metadata": {},
   "source": [
    "#### 3.1.2. Dummy Classifier with TfidfVectorizer"
   ]
  },
  {
   "cell_type": "code",
   "execution_count": 50,
   "id": "ignored-balance",
   "metadata": {},
   "outputs": [],
   "source": [
    "tfidf = TfidfVectorizer()\n",
    "dummy_clf = DummyClassifier(strategy=\"stratified\", random_state=1)"
   ]
  },
  {
   "cell_type": "code",
   "execution_count": 51,
   "id": "legitimate-clark",
   "metadata": {},
   "outputs": [],
   "source": [
    "X_train_tfidf = tfidf.fit_transform(X_train)\n",
    "X_dev_tfidf = tfidf.transform(X_dev)"
   ]
  },
  {
   "cell_type": "code",
   "execution_count": 52,
   "id": "broken-drilling",
   "metadata": {},
   "outputs": [
    {
     "data": {
      "text/plain": [
       "DummyClassifier(random_state=1, strategy='stratified')"
      ]
     },
     "execution_count": 52,
     "metadata": {},
     "output_type": "execute_result"
    }
   ],
   "source": [
    "dummy_clf.fit(X_train_tfidf, y_train)"
   ]
  },
  {
   "cell_type": "code",
   "execution_count": 53,
   "id": "indirect-position",
   "metadata": {},
   "outputs": [],
   "source": [
    "y_pred_dummy = dummy_clf.predict(X_dev_tfidf)"
   ]
  },
  {
   "cell_type": "code",
   "execution_count": 54,
   "id": "described-outdoors",
   "metadata": {},
   "outputs": [
    {
     "name": "stdout",
     "output_type": "stream",
     "text": [
      "0.08363636363636363\n"
     ]
    }
   ],
   "source": [
    "print(accuracy_score(y_dev, y_pred_dummy))"
   ]
  },
  {
   "cell_type": "code",
   "execution_count": 55,
   "id": "experimental-imperial",
   "metadata": {},
   "outputs": [
    {
     "name": "stdout",
     "output_type": "stream",
     "text": [
      "              precision    recall  f1-score   support\n",
      "\n",
      "         ARA       0.06      0.05      0.05       100\n",
      "         DEU       0.08      0.09      0.08       100\n",
      "         FRA       0.09      0.09      0.09       100\n",
      "         HIN       0.07      0.08      0.08       100\n",
      "         ITA       0.06      0.05      0.06       100\n",
      "         JPN       0.09      0.09      0.09       100\n",
      "         KOR       0.08      0.08      0.08       100\n",
      "         SPA       0.07      0.07      0.07       100\n",
      "         TEL       0.14      0.17      0.16       100\n",
      "         TUR       0.11      0.12      0.12       100\n",
      "         ZHO       0.03      0.03      0.03       100\n",
      "\n",
      "    accuracy                           0.08      1100\n",
      "   macro avg       0.08      0.08      0.08      1100\n",
      "weighted avg       0.08      0.08      0.08      1100\n",
      "\n"
     ]
    }
   ],
   "source": [
    "print(classification_report(y_dev, y_pred_dummy))"
   ]
  },
  {
   "cell_type": "markdown",
   "id": "incredible-alexander",
   "metadata": {},
   "source": [
    "### 3.2. Support Vector Machine"
   ]
  },
  {
   "cell_type": "markdown",
   "id": "virgin-discussion",
   "metadata": {},
   "source": [
    "#### 3.2.1. SVM with CountVectorizer"
   ]
  },
  {
   "cell_type": "code",
   "execution_count": 57,
   "id": "needed-finland",
   "metadata": {},
   "outputs": [],
   "source": [
    "svm = SVC()"
   ]
  },
  {
   "cell_type": "code",
   "execution_count": 58,
   "id": "anonymous-thermal",
   "metadata": {},
   "outputs": [
    {
     "data": {
      "text/plain": [
       "SVC()"
      ]
     },
     "execution_count": 58,
     "metadata": {},
     "output_type": "execute_result"
    }
   ],
   "source": [
    "svm.fit(X_train_cvect, y_train)"
   ]
  },
  {
   "cell_type": "code",
   "execution_count": 59,
   "id": "mysterious-exclusive",
   "metadata": {},
   "outputs": [],
   "source": [
    "y_pred_svm = svm.predict(X_dev_cvect)"
   ]
  },
  {
   "cell_type": "code",
   "execution_count": 60,
   "id": "olympic-vatican",
   "metadata": {},
   "outputs": [
    {
     "name": "stdout",
     "output_type": "stream",
     "text": [
      "0.6036363636363636\n"
     ]
    }
   ],
   "source": [
    "print(accuracy_score(y_dev, y_pred_svm))"
   ]
  },
  {
   "cell_type": "code",
   "execution_count": 61,
   "id": "monthly-access",
   "metadata": {},
   "outputs": [
    {
     "name": "stdout",
     "output_type": "stream",
     "text": [
      "              precision    recall  f1-score   support\n",
      "\n",
      "         ARA       0.55      0.55      0.55       100\n",
      "         DEU       0.76      0.72      0.74       100\n",
      "         FRA       0.60      0.61      0.60       100\n",
      "         HIN       0.56      0.58      0.57       100\n",
      "         ITA       0.66      0.66      0.66       100\n",
      "         JPN       0.51      0.60      0.55       100\n",
      "         KOR       0.59      0.52      0.55       100\n",
      "         SPA       0.52      0.54      0.53       100\n",
      "         TEL       0.64      0.68      0.66       100\n",
      "         TUR       0.68      0.58      0.63       100\n",
      "         ZHO       0.61      0.60      0.60       100\n",
      "\n",
      "    accuracy                           0.60      1100\n",
      "   macro avg       0.61      0.60      0.60      1100\n",
      "weighted avg       0.61      0.60      0.60      1100\n",
      "\n"
     ]
    }
   ],
   "source": [
    "print(classification_report(y_dev, y_pred_svm))"
   ]
  },
  {
   "cell_type": "markdown",
   "id": "thousand-commissioner",
   "metadata": {},
   "source": [
    "#### 3.2.2. SVM with TfidfVectorizer"
   ]
  },
  {
   "cell_type": "code",
   "execution_count": 63,
   "id": "fleet-probe",
   "metadata": {},
   "outputs": [],
   "source": [
    "svm = SVC()"
   ]
  },
  {
   "cell_type": "code",
   "execution_count": 64,
   "id": "utility-thanksgiving",
   "metadata": {},
   "outputs": [
    {
     "data": {
      "text/plain": [
       "SVC()"
      ]
     },
     "execution_count": 64,
     "metadata": {},
     "output_type": "execute_result"
    }
   ],
   "source": [
    "svm.fit(X_train_tfidf, y_train)"
   ]
  },
  {
   "cell_type": "code",
   "execution_count": 65,
   "id": "selected-loading",
   "metadata": {},
   "outputs": [],
   "source": [
    "y_pred_svm = svm.predict(X_dev_tfidf)"
   ]
  },
  {
   "cell_type": "code",
   "execution_count": 66,
   "id": "separated-decade",
   "metadata": {},
   "outputs": [
    {
     "name": "stdout",
     "output_type": "stream",
     "text": [
      "0.7227272727272728\n"
     ]
    }
   ],
   "source": [
    "print(accuracy_score(y_dev, y_pred_svm))"
   ]
  },
  {
   "cell_type": "code",
   "execution_count": 67,
   "id": "touched-cigarette",
   "metadata": {},
   "outputs": [
    {
     "name": "stdout",
     "output_type": "stream",
     "text": [
      "              precision    recall  f1-score   support\n",
      "\n",
      "         ARA       0.70      0.63      0.66       100\n",
      "         DEU       0.84      0.83      0.83       100\n",
      "         FRA       0.76      0.73      0.74       100\n",
      "         HIN       0.59      0.69      0.64       100\n",
      "         ITA       0.87      0.77      0.81       100\n",
      "         JPN       0.69      0.73      0.71       100\n",
      "         KOR       0.71      0.66      0.68       100\n",
      "         SPA       0.67      0.74      0.70       100\n",
      "         TEL       0.75      0.70      0.73       100\n",
      "         TUR       0.79      0.77      0.78       100\n",
      "         ZHO       0.64      0.70      0.67       100\n",
      "\n",
      "    accuracy                           0.72      1100\n",
      "   macro avg       0.73      0.72      0.72      1100\n",
      "weighted avg       0.73      0.72      0.72      1100\n",
      "\n"
     ]
    }
   ],
   "source": [
    "print(classification_report(y_dev, y_pred_svm))"
   ]
  },
  {
   "cell_type": "markdown",
   "id": "accompanied-johnson",
   "metadata": {},
   "source": [
    "### 3.3. BERT\n",
    "Please check separate notebook for BERT baseline."
   ]
  },
  {
   "cell_type": "markdown",
   "id": "minus-canvas",
   "metadata": {},
   "source": [
    "##  4. Pipeline models"
   ]
  },
  {
   "cell_type": "markdown",
   "id": "alternative-cedar",
   "metadata": {},
   "source": [
    "### 4.1. Pipe 1. Logistic Regression and TfidfVectorizer"
   ]
  },
  {
   "cell_type": "code",
   "execution_count": 71,
   "id": "cubic-residence",
   "metadata": {},
   "outputs": [],
   "source": [
    "log_reg = LogisticRegression() # default parameters\n",
    "tfidf = TfidfVectorizer() # default parameters"
   ]
  },
  {
   "cell_type": "code",
   "execution_count": 72,
   "id": "beginning-darwin",
   "metadata": {},
   "outputs": [],
   "source": [
    "pipe1 = make_pipeline(tfidf, log_reg, verbose=True)"
   ]
  },
  {
   "cell_type": "code",
   "execution_count": 73,
   "id": "parallel-easter",
   "metadata": {},
   "outputs": [
    {
     "name": "stdout",
     "output_type": "stream",
     "text": [
      "[Pipeline] ... (step 1 of 2) Processing tfidfvectorizer, total=   2.0s\n",
      "[Pipeline]  (step 2 of 2) Processing logisticregression, total=  10.6s\n"
     ]
    },
    {
     "name": "stderr",
     "output_type": "stream",
     "text": [
      "/Users/paulineclaes/opt/anaconda3/lib/python3.8/site-packages/sklearn/linear_model/_logistic.py:763: ConvergenceWarning: lbfgs failed to converge (status=1):\n",
      "STOP: TOTAL NO. of ITERATIONS REACHED LIMIT.\n",
      "\n",
      "Increase the number of iterations (max_iter) or scale the data as shown in:\n",
      "    https://scikit-learn.org/stable/modules/preprocessing.html\n",
      "Please also refer to the documentation for alternative solver options:\n",
      "    https://scikit-learn.org/stable/modules/linear_model.html#logistic-regression\n",
      "  n_iter_i = _check_optimize_result(\n"
     ]
    },
    {
     "data": {
      "text/plain": [
       "Pipeline(steps=[('tfidfvectorizer', TfidfVectorizer()),\n",
       "                ('logisticregression', LogisticRegression())],\n",
       "         verbose=True)"
      ]
     },
     "execution_count": 73,
     "metadata": {},
     "output_type": "execute_result"
    }
   ],
   "source": [
    "pipe1.fit(X_train, y_train)"
   ]
  },
  {
   "cell_type": "code",
   "execution_count": 74,
   "id": "third-wallet",
   "metadata": {},
   "outputs": [],
   "source": [
    "y_pred_pipe1 = pipe1.predict(X_dev)"
   ]
  },
  {
   "cell_type": "code",
   "execution_count": 75,
   "id": "harmful-execution",
   "metadata": {},
   "outputs": [
    {
     "name": "stdout",
     "output_type": "stream",
     "text": [
      "0.7190909090909091\n"
     ]
    }
   ],
   "source": [
    "print(accuracy_score(y_dev, y_pred_pipe1))"
   ]
  },
  {
   "cell_type": "code",
   "execution_count": 76,
   "id": "median-paintball",
   "metadata": {},
   "outputs": [
    {
     "name": "stdout",
     "output_type": "stream",
     "text": [
      "              precision    recall  f1-score   support\n",
      "\n",
      "         ARA       0.76      0.59      0.66       100\n",
      "         DEU       0.82      0.85      0.83       100\n",
      "         FRA       0.77      0.78      0.78       100\n",
      "         HIN       0.60      0.66      0.63       100\n",
      "         ITA       0.76      0.77      0.77       100\n",
      "         JPN       0.67      0.68      0.68       100\n",
      "         KOR       0.72      0.68      0.70       100\n",
      "         SPA       0.70      0.67      0.68       100\n",
      "         TEL       0.70      0.74      0.72       100\n",
      "         TUR       0.76      0.74      0.75       100\n",
      "         ZHO       0.68      0.75      0.71       100\n",
      "\n",
      "    accuracy                           0.72      1100\n",
      "   macro avg       0.72      0.72      0.72      1100\n",
      "weighted avg       0.72      0.72      0.72      1100\n",
      "\n"
     ]
    }
   ],
   "source": [
    "print(classification_report(y_dev, y_pred_pipe1))"
   ]
  },
  {
   "cell_type": "markdown",
   "id": "polished-reduction",
   "metadata": {},
   "source": [
    "#### 4.1.1. Hyperparameter tuning"
   ]
  },
  {
   "cell_type": "code",
   "execution_count": 78,
   "id": "complete-stone",
   "metadata": {},
   "outputs": [],
   "source": [
    "pipe1_params = [{'tfidfvectorizer__lowercase' : [True, False], \n",
    "                 'tfidfvectorizer__max_df' : [0.70, 0.75, 0.80, 0.85, 0.90, 1.0],\n",
    "                 'tfidfvectorizer__min_df' : [0.001, 0.01, 0.1],\n",
    "                 'tfidfvectorizer__ngram_range' : [(1,1), (1,2), (1,3), (1,4)],\n",
    "                 'tfidfvectorizer__norm' : ['l1', 'l2'],\n",
    "                 'tfidfvectorizer__tokenizer' : [nltk__word_tokenizer],\n",
    "                 'logisticregression__C' : [0.01, 0.1, 1.0, 10.0],\n",
    "                 'logisticregression__max_iter': [1000, 2500, 5000],\n",
    "                 'logisticregression__multi_class' : ['ovr', 'multinomial']}]\n",
    "\n",
    "rs_pipe1 = RandomizedSearchCV(estimator = pipe1,\n",
    "                              param_distributions = pipe1_params, \n",
    "                              n_iter = 15, \n",
    "                              scoring = 'accuracy', \n",
    "                             refit=True, \n",
    "                             cv=10, \n",
    "                             verbose=1,\n",
    "                              n_jobs=-1)"
   ]
  },
  {
   "cell_type": "code",
   "execution_count": 79,
   "id": "demographic-reply",
   "metadata": {},
   "outputs": [
    {
     "name": "stdout",
     "output_type": "stream",
     "text": [
      "Fitting 10 folds for each of 15 candidates, totalling 150 fits\n",
      "[Pipeline] ... (step 1 of 2) Processing tfidfvectorizer, total=  17.8s\n",
      "[Pipeline]  (step 2 of 2) Processing logisticregression, total=   2.6s\n"
     ]
    },
    {
     "data": {
      "text/plain": [
       "RandomizedSearchCV(cv=10,\n",
       "                   estimator=Pipeline(steps=[('tfidfvectorizer',\n",
       "                                              TfidfVectorizer()),\n",
       "                                             ('logisticregression',\n",
       "                                              LogisticRegression())],\n",
       "                                      verbose=True),\n",
       "                   n_iter=15, n_jobs=-1,\n",
       "                   param_distributions=[{'logisticregression__C': [0.01, 0.1,\n",
       "                                                                   1.0, 10.0],\n",
       "                                         'logisticregression__max_iter': [1000,\n",
       "                                                                          2500,\n",
       "                                                                          5000],\n",
       "                                         'logisticregression__multi_class': ['ovr',\n",
       "                                                                             'multinomial'],\n",
       "                                         'tfidfvectorizer__lowercase': [True,\n",
       "                                                                        False],\n",
       "                                         'tfidfvectorizer__max_df': [0.7, 0.75,\n",
       "                                                                     0.8, 0.85,\n",
       "                                                                     0.9, 1.0],\n",
       "                                         'tfidfvectorizer__min_df': [0.001,\n",
       "                                                                     0.01,\n",
       "                                                                     0.1],\n",
       "                                         'tfidfvectorizer__ngram_range': [(1,\n",
       "                                                                           1),\n",
       "                                                                          (1,\n",
       "                                                                           2),\n",
       "                                                                          (1,\n",
       "                                                                           3),\n",
       "                                                                          (1,\n",
       "                                                                           4)],\n",
       "                                         'tfidfvectorizer__norm': ['l1', 'l2'],\n",
       "                                         'tfidfvectorizer__tokenizer': [<function word_tokenize at 0x7fd5714a2160>]}],\n",
       "                   scoring='accuracy', verbose=1)"
      ]
     },
     "execution_count": 79,
     "metadata": {},
     "output_type": "execute_result"
    }
   ],
   "source": [
    "rs_pipe1.fit(X_train, y_train)"
   ]
  },
  {
   "cell_type": "code",
   "execution_count": 80,
   "id": "functioning-louisiana",
   "metadata": {},
   "outputs": [],
   "source": [
    "rs_pipe1_best = rs_pipe1.best_estimator_"
   ]
  },
  {
   "cell_type": "code",
   "execution_count": 81,
   "id": "sensitive-behavior",
   "metadata": {},
   "outputs": [
    {
     "name": "stdout",
     "output_type": "stream",
     "text": [
      "{'tfidfvectorizer__tokenizer': <function word_tokenize at 0x7fd5714a2160>, 'tfidfvectorizer__norm': 'l2', 'tfidfvectorizer__ngram_range': (1, 1), 'tfidfvectorizer__min_df': 0.001, 'tfidfvectorizer__max_df': 0.8, 'tfidfvectorizer__lowercase': False, 'logisticregression__multi_class': 'ovr', 'logisticregression__max_iter': 2500, 'logisticregression__C': 1.0}\n"
     ]
    }
   ],
   "source": [
    "print(rs_pipe1.best_params_)"
   ]
  },
  {
   "cell_type": "markdown",
   "id": "physical-glory",
   "metadata": {},
   "source": [
    "### 4.2. Pipe 2. Stochastic Gradient Descent Classifier and TfidfVectorizer"
   ]
  },
  {
   "cell_type": "code",
   "execution_count": 82,
   "id": "administrative-forth",
   "metadata": {},
   "outputs": [],
   "source": [
    "sgd = SGDClassifier() # default parameters\n",
    "tfidf = TfidfVectorizer() # default parameters"
   ]
  },
  {
   "cell_type": "code",
   "execution_count": 83,
   "id": "paperback-journalism",
   "metadata": {},
   "outputs": [],
   "source": [
    "pipe2 = make_pipeline(tfidf, sgd, verbose=True)"
   ]
  },
  {
   "cell_type": "code",
   "execution_count": 84,
   "id": "august-humanity",
   "metadata": {},
   "outputs": [
    {
     "name": "stdout",
     "output_type": "stream",
     "text": [
      "[Pipeline] ... (step 1 of 2) Processing tfidfvectorizer, total=   1.7s\n",
      "[Pipeline] ..... (step 2 of 2) Processing sgdclassifier, total=   0.6s\n"
     ]
    },
    {
     "data": {
      "text/plain": [
       "Pipeline(steps=[('tfidfvectorizer', TfidfVectorizer()),\n",
       "                ('sgdclassifier', SGDClassifier())],\n",
       "         verbose=True)"
      ]
     },
     "execution_count": 84,
     "metadata": {},
     "output_type": "execute_result"
    }
   ],
   "source": [
    "pipe2.fit(X_train, y_train)"
   ]
  },
  {
   "cell_type": "code",
   "execution_count": 85,
   "id": "robust-restaurant",
   "metadata": {},
   "outputs": [],
   "source": [
    "y_pred_pipe2 = pipe2.predict(X_dev)"
   ]
  },
  {
   "cell_type": "code",
   "execution_count": 86,
   "id": "impossible-groove",
   "metadata": {},
   "outputs": [
    {
     "name": "stdout",
     "output_type": "stream",
     "text": [
      "0.7554545454545455\n"
     ]
    }
   ],
   "source": [
    "print(accuracy_score(y_dev, y_pred_pipe2))"
   ]
  },
  {
   "cell_type": "code",
   "execution_count": 87,
   "id": "arctic-departure",
   "metadata": {},
   "outputs": [
    {
     "name": "stdout",
     "output_type": "stream",
     "text": [
      "              precision    recall  f1-score   support\n",
      "\n",
      "         ARA       0.76      0.63      0.69       100\n",
      "         DEU       0.82      0.89      0.86       100\n",
      "         FRA       0.79      0.81      0.80       100\n",
      "         HIN       0.65      0.59      0.62       100\n",
      "         ITA       0.84      0.87      0.86       100\n",
      "         JPN       0.74      0.74      0.74       100\n",
      "         KOR       0.67      0.68      0.68       100\n",
      "         SPA       0.74      0.66      0.70       100\n",
      "         TEL       0.71      0.82      0.76       100\n",
      "         TUR       0.75      0.80      0.78       100\n",
      "         ZHO       0.81      0.82      0.82       100\n",
      "\n",
      "    accuracy                           0.76      1100\n",
      "   macro avg       0.75      0.76      0.75      1100\n",
      "weighted avg       0.75      0.76      0.75      1100\n",
      "\n"
     ]
    }
   ],
   "source": [
    "print(classification_report(y_dev, y_pred_pipe2))"
   ]
  },
  {
   "cell_type": "markdown",
   "id": "contrary-arctic",
   "metadata": {},
   "source": [
    "#### 4.2.1. Hyperparameter tuning"
   ]
  },
  {
   "cell_type": "code",
   "execution_count": 89,
   "id": "treated-council",
   "metadata": {},
   "outputs": [],
   "source": [
    "pipe2_params = [{'tfidfvectorizer__lowercase' : [True, False], \n",
    "                 'tfidfvectorizer__max_df' : [0.70, 0.75, 0.80, 0.85, 0.90, 1.0],\n",
    "                 'tfidfvectorizer__min_df' : [0.001, 0.01, 0.1],\n",
    "                 'tfidfvectorizer__ngram_range' : [(1,1), (1,2), (1,3), (1,4)],\n",
    "                 'tfidfvectorizer__norm' : ['l1', 'l2'],\n",
    "                 'tfidfvectorizer__tokenizer' : [nltk__word_tokenizer],\n",
    "                 'sgdclassifier__loss' : ['hinge', 'log', 'squared_hinge'],\n",
    "                 'sgdclassifier__penalty' : ['l2', 'l1', 'elasticnet'],\n",
    "                 'sgdclassifier__alpha' : [1e-4, 1e-3, 0.01, 0.1, 1.0],\n",
    "                 'sgdclassifier__max_iter': [1000, 2500, 5000]}] \n",
    "\n",
    "rs_pipe2 = RandomizedSearchCV(estimator = pipe2,\n",
    "                              param_distributions = pipe2_params, \n",
    "                              n_iter = 15, \n",
    "                              scoring = 'accuracy', \n",
    "                              refit=True, \n",
    "                              cv=10, \n",
    "                              verbose=1, \n",
    "                              n_jobs=-1)"
   ]
  },
  {
   "cell_type": "code",
   "execution_count": 90,
   "id": "aggregate-colonial",
   "metadata": {},
   "outputs": [
    {
     "name": "stdout",
     "output_type": "stream",
     "text": [
      "Fitting 10 folds for each of 15 candidates, totalling 150 fits\n",
      "[Pipeline] ... (step 1 of 2) Processing tfidfvectorizer, total=  31.6s\n",
      "[Pipeline] ..... (step 2 of 2) Processing sgdclassifier, total=   1.5s\n"
     ]
    },
    {
     "data": {
      "text/plain": [
       "RandomizedSearchCV(cv=10,\n",
       "                   estimator=Pipeline(steps=[('tfidfvectorizer',\n",
       "                                              TfidfVectorizer()),\n",
       "                                             ('sgdclassifier',\n",
       "                                              SGDClassifier())],\n",
       "                                      verbose=True),\n",
       "                   n_iter=15, n_jobs=-1,\n",
       "                   param_distributions=[{'sgdclassifier__alpha': [0.0001, 0.001,\n",
       "                                                                  0.01, 0.1,\n",
       "                                                                  1.0],\n",
       "                                         'sgdclassifier__loss': ['hinge', 'log',\n",
       "                                                                 'squared_hinge'],\n",
       "                                         'sgdclassifier__max_iter': [1000, 2500,\n",
       "                                                                     5000],\n",
       "                                         'sgdclassifier__penalt...',\n",
       "                                                                    'elasticnet'],\n",
       "                                         'tfidfvectorizer__lowercase': [True,\n",
       "                                                                        False],\n",
       "                                         'tfidfvectorizer__max_df': [0.7, 0.75,\n",
       "                                                                     0.8, 0.85,\n",
       "                                                                     0.9, 1.0],\n",
       "                                         'tfidfvectorizer__min_df': [0.001,\n",
       "                                                                     0.01,\n",
       "                                                                     0.1],\n",
       "                                         'tfidfvectorizer__ngram_range': [(1,\n",
       "                                                                           1),\n",
       "                                                                          (1,\n",
       "                                                                           2),\n",
       "                                                                          (1,\n",
       "                                                                           3),\n",
       "                                                                          (1,\n",
       "                                                                           4)],\n",
       "                                         'tfidfvectorizer__norm': ['l1', 'l2'],\n",
       "                                         'tfidfvectorizer__tokenizer': [<function word_tokenize at 0x7fd5714a2160>]}],\n",
       "                   scoring='accuracy', verbose=1)"
      ]
     },
     "execution_count": 90,
     "metadata": {},
     "output_type": "execute_result"
    }
   ],
   "source": [
    "rs_pipe2.fit(X_train, y_train)"
   ]
  },
  {
   "cell_type": "code",
   "execution_count": 91,
   "id": "sublime-circulation",
   "metadata": {},
   "outputs": [],
   "source": [
    "rs_pipe2_best = rs_pipe2.best_estimator_"
   ]
  },
  {
   "cell_type": "code",
   "execution_count": 92,
   "id": "acute-narrow",
   "metadata": {},
   "outputs": [
    {
     "name": "stdout",
     "output_type": "stream",
     "text": [
      "{'tfidfvectorizer__tokenizer': <function word_tokenize at 0x7fd5714a2160>, 'tfidfvectorizer__norm': 'l2', 'tfidfvectorizer__ngram_range': (1, 4), 'tfidfvectorizer__min_df': 0.1, 'tfidfvectorizer__max_df': 1.0, 'tfidfvectorizer__lowercase': True, 'sgdclassifier__penalty': 'l1', 'sgdclassifier__max_iter': 1000, 'sgdclassifier__loss': 'hinge', 'sgdclassifier__alpha': 0.0001}\n"
     ]
    }
   ],
   "source": [
    "print(rs_pipe2.best_params_)"
   ]
  },
  {
   "cell_type": "markdown",
   "id": "public-brass",
   "metadata": {},
   "source": [
    "### 4.3. Pipe 3. LinearSVC and TfidfVectorizer"
   ]
  },
  {
   "cell_type": "code",
   "execution_count": 93,
   "id": "prepared-music",
   "metadata": {},
   "outputs": [],
   "source": [
    "linear_svc = LinearSVC() # default parameters\n",
    "tfidf = TfidfVectorizer() # default parameters"
   ]
  },
  {
   "cell_type": "code",
   "execution_count": 94,
   "id": "radical-mongolia",
   "metadata": {},
   "outputs": [],
   "source": [
    "pipe3 = make_pipeline(tfidf, linear_svc, verbose=True)"
   ]
  },
  {
   "cell_type": "code",
   "execution_count": 95,
   "id": "numerical-hostel",
   "metadata": {},
   "outputs": [
    {
     "name": "stdout",
     "output_type": "stream",
     "text": [
      "[Pipeline] ... (step 1 of 2) Processing tfidfvectorizer, total=   1.7s\n",
      "[Pipeline] ......... (step 2 of 2) Processing linearsvc, total=   1.2s\n"
     ]
    },
    {
     "data": {
      "text/plain": [
       "Pipeline(steps=[('tfidfvectorizer', TfidfVectorizer()),\n",
       "                ('linearsvc', LinearSVC())],\n",
       "         verbose=True)"
      ]
     },
     "execution_count": 95,
     "metadata": {},
     "output_type": "execute_result"
    }
   ],
   "source": [
    "pipe3.fit(X_train, y_train)"
   ]
  },
  {
   "cell_type": "code",
   "execution_count": 96,
   "id": "artistic-lloyd",
   "metadata": {},
   "outputs": [],
   "source": [
    "y_pred_pipe3 = pipe3.predict(X_dev)"
   ]
  },
  {
   "cell_type": "code",
   "execution_count": 97,
   "id": "casual-universe",
   "metadata": {},
   "outputs": [
    {
     "name": "stdout",
     "output_type": "stream",
     "text": [
      "0.7636363636363637\n"
     ]
    }
   ],
   "source": [
    "print(accuracy_score(y_dev, y_pred_pipe3))"
   ]
  },
  {
   "cell_type": "code",
   "execution_count": 98,
   "id": "according-processing",
   "metadata": {},
   "outputs": [
    {
     "name": "stdout",
     "output_type": "stream",
     "text": [
      "              precision    recall  f1-score   support\n",
      "\n",
      "         ARA       0.72      0.64      0.68       100\n",
      "         DEU       0.87      0.87      0.87       100\n",
      "         FRA       0.79      0.84      0.81       100\n",
      "         HIN       0.71      0.68      0.69       100\n",
      "         ITA       0.88      0.86      0.87       100\n",
      "         JPN       0.72      0.74      0.73       100\n",
      "         KOR       0.69      0.69      0.69       100\n",
      "         SPA       0.77      0.71      0.74       100\n",
      "         TEL       0.73      0.80      0.76       100\n",
      "         TUR       0.75      0.78      0.76       100\n",
      "         ZHO       0.78      0.79      0.79       100\n",
      "\n",
      "    accuracy                           0.76      1100\n",
      "   macro avg       0.76      0.76      0.76      1100\n",
      "weighted avg       0.76      0.76      0.76      1100\n",
      "\n"
     ]
    }
   ],
   "source": [
    "print(classification_report(y_dev, y_pred_pipe3))"
   ]
  },
  {
   "cell_type": "markdown",
   "id": "reported-digit",
   "metadata": {},
   "source": [
    "#### 4.3.1. Hyperparameter tuning"
   ]
  },
  {
   "cell_type": "code",
   "execution_count": 101,
   "id": "organic-california",
   "metadata": {},
   "outputs": [],
   "source": [
    "rs_pipe3_params = [{'tfidfvectorizer__lowercase' : [True, False], \n",
    "                     'tfidfvectorizer__max_df' : [0.70, 0.75, 0.80, 0.85, 0.90, 1.0],\n",
    "                     'tfidfvectorizer__min_df' : [0.001, 0.01, 0.1],\n",
    "                     'tfidfvectorizer__ngram_range' : [(1,1), (1,2), (1,3), (1,4)],\n",
    "                     'tfidfvectorizer__norm' : ['l1', 'l2'],\n",
    "                     'tfidfvectorizer__tokenizer' : [nltk__word_tokenizer],\n",
    "                     'linearsvc__C' : [0.1, 1.0, 10.0],\n",
    "                     'linearsvc__max_iter' : [1000, 2500, 5000]}]\n",
    "\n",
    "rs_pipe3 = RandomizedSearchCV(estimator = pipe3, \n",
    "                              param_distributions=rs_pipe3_params, \n",
    "                              n_iter = 15, \n",
    "                              scoring='accuracy', \n",
    "                              refit=True, \n",
    "                              cv=10, \n",
    "                              verbose=2,\n",
    "                              random_state=1,\n",
    "                              n_jobs=-1)"
   ]
  },
  {
   "cell_type": "code",
   "execution_count": 102,
   "id": "canadian-equity",
   "metadata": {},
   "outputs": [
    {
     "name": "stdout",
     "output_type": "stream",
     "text": [
      "Fitting 10 folds for each of 15 candidates, totalling 150 fits\n",
      "[Pipeline] ... (step 1 of 2) Processing tfidfvectorizer, total=  27.3s\n",
      "[Pipeline] ......... (step 2 of 2) Processing linearsvc, total=   3.0s\n"
     ]
    },
    {
     "data": {
      "text/plain": [
       "RandomizedSearchCV(cv=10,\n",
       "                   estimator=Pipeline(steps=[('tfidfvectorizer',\n",
       "                                              TfidfVectorizer()),\n",
       "                                             ('linearsvc', LinearSVC())],\n",
       "                                      verbose=True),\n",
       "                   n_iter=15, n_jobs=-1,\n",
       "                   param_distributions=[{'linearsvc__C': [0.1, 1.0, 10.0],\n",
       "                                         'linearsvc__max_iter': [1000, 2500,\n",
       "                                                                 5000],\n",
       "                                         'tfidfvectorizer__lowercase': [True,\n",
       "                                                                        False],\n",
       "                                         'tfidfvectorizer__max_df': [0.7, 0.75,\n",
       "                                                                     0.8, 0.85,\n",
       "                                                                     0.9, 1.0],\n",
       "                                         'tfidfvectorizer__min_df': [0.001,\n",
       "                                                                     0.01,\n",
       "                                                                     0.1],\n",
       "                                         'tfidfvectorizer__ngram_range': [(1,\n",
       "                                                                           1),\n",
       "                                                                          (1,\n",
       "                                                                           2),\n",
       "                                                                          (1,\n",
       "                                                                           3),\n",
       "                                                                          (1,\n",
       "                                                                           4)],\n",
       "                                         'tfidfvectorizer__norm': ['l1', 'l2'],\n",
       "                                         'tfidfvectorizer__tokenizer': [<function word_tokenize at 0x7fd5714a2160>]}],\n",
       "                   random_state=1, scoring='accuracy', verbose=2)"
      ]
     },
     "execution_count": 102,
     "metadata": {},
     "output_type": "execute_result"
    }
   ],
   "source": [
    "rs_pipe3.fit(X_train, y_train)"
   ]
  },
  {
   "cell_type": "code",
   "execution_count": 103,
   "id": "committed-container",
   "metadata": {},
   "outputs": [],
   "source": [
    "rs_pipe3_best = rs_pipe3.best_estimator_"
   ]
  },
  {
   "cell_type": "code",
   "execution_count": 104,
   "id": "frank-opinion",
   "metadata": {},
   "outputs": [
    {
     "name": "stdout",
     "output_type": "stream",
     "text": [
      "Pipeline(steps=[('tfidfvectorizer',\n",
      "                 TfidfVectorizer(lowercase=False, max_df=0.8, min_df=0.001,\n",
      "                                 ngram_range=(1, 3),\n",
      "                                 tokenizer=<function word_tokenize at 0x7fd5714a2160>)),\n",
      "                ('linearsvc', LinearSVC())],\n",
      "         verbose=True)\n"
     ]
    }
   ],
   "source": [
    "print(rs_pipe3.best_params_)"
   ]
  },
  {
   "cell_type": "markdown",
   "id": "cheap-movie",
   "metadata": {},
   "source": [
    "## 5. Stacked Classifier"
   ]
  },
  {
   "cell_type": "markdown",
   "id": "atomic-jurisdiction",
   "metadata": {},
   "source": [
    "### 5.1. Stacked 1. Logistic Regression, Stochastic Gradient Descent, LinearSVC, TfidfVectorizer. \n",
    "<u>Input feature:</u> *text* column"
   ]
  },
  {
   "cell_type": "code",
   "execution_count": 123,
   "id": "eastern-auction",
   "metadata": {},
   "outputs": [],
   "source": [
    "from sklearn.ensemble import StackingClassifier"
   ]
  },
  {
   "cell_type": "code",
   "execution_count": 110,
   "id": "private-expansion",
   "metadata": {},
   "outputs": [],
   "source": [
    "#print(rs_pipe1.best_params_)"
   ]
  },
  {
   "cell_type": "code",
   "execution_count": 112,
   "id": "accomplished-instrumentation",
   "metadata": {
    "scrolled": true
   },
   "outputs": [],
   "source": [
    "#print(rs_pipe2.best_params_)"
   ]
  },
  {
   "cell_type": "code",
   "execution_count": 122,
   "id": "discrete-security",
   "metadata": {},
   "outputs": [],
   "source": [
    "#print(rs_pipe3.best_params_)"
   ]
  },
  {
   "cell_type": "code",
   "execution_count": 116,
   "id": "vocal-stamp",
   "metadata": {},
   "outputs": [],
   "source": [
    "tfidf_log_reg = TfidfVectorizer(tokenizer = nltk__word_tokenizer,\n",
    "                               norm=\"l2\", \n",
    "                               ngram_range=(1,1),\n",
    "                               min_df = 0.001, \n",
    "                               max_df = 0.8, \n",
    "                               lowercase=False)\n",
    "log_reg = LogisticRegression(multi_class=\"ovr\", \n",
    "                             max_iter=2500, \n",
    "                             C = 1.0,\n",
    "                             random_state=1)\n",
    "#####\n",
    "\n",
    "tfidf_sgd = TfidfVectorizer(tokenizer = nltk__word_tokenizer, \n",
    "                            norm=\"l2\", \n",
    "                            ngram_range=(1,4), \n",
    "                            min_df = 0.1, \n",
    "                            max_df = 1.0, \n",
    "                            lowercase=True)\n",
    "sgd = SGDClassifier(penalty = \"l1\", \n",
    "                    max_iter = 1000, \n",
    "                    loss = \"hinge\", \n",
    "                    random_state=1)\n",
    "\n",
    "#####\n",
    "\n",
    "tfidf_linear_svc = TfidfVectorizer(tokenizer = nltk__word_tokenizer,\n",
    "                                  norm = \"l2\", \n",
    "                                  ngram_range=(1,3), \n",
    "                                  min_df = 0.001, \n",
    "                                  max_df = 0.8,\n",
    "                                  lowercase=False)\n",
    "linear_svc = LinearSVC(max_iter = 1000, \n",
    "                       C = 1.0,\n",
    "                       random_state=1)\n",
    "\n",
    "#####\n",
    "\n",
    "final_logreg = LogisticRegression(multi_class=\"multinomial\",\n",
    "                                 max_iter=1000)\n",
    "\n",
    "stacked1 = StackingClassifier(estimators=[('pipe1', make_pipeline(tfidf_log_reg, log_reg, verbose=True)),\n",
    "                                          ('pipe2', make_pipeline(tfidf_sgd, sgd, verbose=True)),\n",
    "                                          ('pipe3', make_pipeline(tfidf_linear_svc, linear_svc, verbose=True))],\n",
    "                              final_estimator=final_logreg,\n",
    "                              verbose=1)\n"
   ]
  },
  {
   "cell_type": "code",
   "execution_count": 118,
   "id": "weighted-multimedia",
   "metadata": {
    "scrolled": true
   },
   "outputs": [
    {
     "name": "stdout",
     "output_type": "stream",
     "text": [
      "[Pipeline] ... (step 1 of 2) Processing tfidfvectorizer, total=  18.0s\n",
      "[Pipeline]  (step 2 of 2) Processing logisticregression, total=   2.5s\n",
      "[Pipeline] ... (step 1 of 2) Processing tfidfvectorizer, total=  28.9s\n",
      "[Pipeline] ..... (step 2 of 2) Processing sgdclassifier, total=   1.4s\n",
      "[Pipeline] ... (step 1 of 2) Processing tfidfvectorizer, total=  23.8s\n",
      "[Pipeline] ......... (step 2 of 2) Processing linearsvc, total=   3.0s\n"
     ]
    },
    {
     "name": "stderr",
     "output_type": "stream",
     "text": [
      "[Parallel(n_jobs=1)]: Using backend SequentialBackend with 1 concurrent workers.\n"
     ]
    },
    {
     "name": "stdout",
     "output_type": "stream",
     "text": [
      "[Pipeline] ... (step 1 of 2) Processing tfidfvectorizer, total=  13.1s\n",
      "[Pipeline]  (step 2 of 2) Processing logisticregression, total=   2.1s\n",
      "[Pipeline] ... (step 1 of 2) Processing tfidfvectorizer, total=  12.8s\n",
      "[Pipeline]  (step 2 of 2) Processing logisticregression, total=   2.0s\n",
      "[Pipeline] ... (step 1 of 2) Processing tfidfvectorizer, total=  12.7s\n",
      "[Pipeline]  (step 2 of 2) Processing logisticregression, total=   4.2s\n",
      "[Pipeline] ... (step 1 of 2) Processing tfidfvectorizer, total=  13.0s\n",
      "[Pipeline]  (step 2 of 2) Processing logisticregression, total=   2.0s\n",
      "[Pipeline] ... (step 1 of 2) Processing tfidfvectorizer, total=  12.8s\n",
      "[Pipeline]  (step 2 of 2) Processing logisticregression, total=   2.0s\n"
     ]
    },
    {
     "name": "stderr",
     "output_type": "stream",
     "text": [
      "[Parallel(n_jobs=1)]: Done   5 out of   5 | elapsed:  1.5min finished\n",
      "[Parallel(n_jobs=1)]: Using backend SequentialBackend with 1 concurrent workers.\n"
     ]
    },
    {
     "name": "stdout",
     "output_type": "stream",
     "text": [
      "[Pipeline] ... (step 1 of 2) Processing tfidfvectorizer, total=  23.9s\n",
      "[Pipeline] ..... (step 2 of 2) Processing sgdclassifier, total=   1.2s\n",
      "[Pipeline] ... (step 1 of 2) Processing tfidfvectorizer, total=  22.9s\n",
      "[Pipeline] ..... (step 2 of 2) Processing sgdclassifier, total=   1.3s\n",
      "[Pipeline] ... (step 1 of 2) Processing tfidfvectorizer, total=  22.9s\n",
      "[Pipeline] ..... (step 2 of 2) Processing sgdclassifier, total=   1.3s\n",
      "[Pipeline] ... (step 1 of 2) Processing tfidfvectorizer, total=  23.0s\n",
      "[Pipeline] ..... (step 2 of 2) Processing sgdclassifier, total=   1.2s\n",
      "[Pipeline] ... (step 1 of 2) Processing tfidfvectorizer, total=  23.2s\n",
      "[Pipeline] ..... (step 2 of 2) Processing sgdclassifier, total=   1.2s\n"
     ]
    },
    {
     "name": "stderr",
     "output_type": "stream",
     "text": [
      "[Parallel(n_jobs=1)]: Done   5 out of   5 | elapsed:  2.4min finished\n",
      "[Parallel(n_jobs=1)]: Using backend SequentialBackend with 1 concurrent workers.\n"
     ]
    },
    {
     "name": "stdout",
     "output_type": "stream",
     "text": [
      "[Pipeline] ... (step 1 of 2) Processing tfidfvectorizer, total=  19.1s\n",
      "[Pipeline] ......... (step 2 of 2) Processing linearsvc, total=   2.2s\n",
      "[Pipeline] ... (step 1 of 2) Processing tfidfvectorizer, total=  19.0s\n",
      "[Pipeline] ......... (step 2 of 2) Processing linearsvc, total=   2.2s\n",
      "[Pipeline] ... (step 1 of 2) Processing tfidfvectorizer, total=  19.2s\n",
      "[Pipeline] ......... (step 2 of 2) Processing linearsvc, total=   2.2s\n",
      "[Pipeline] ... (step 1 of 2) Processing tfidfvectorizer, total=  18.4s\n",
      "[Pipeline] ......... (step 2 of 2) Processing linearsvc, total=   2.2s\n",
      "[Pipeline] ... (step 1 of 2) Processing tfidfvectorizer, total=  19.5s\n",
      "[Pipeline] ......... (step 2 of 2) Processing linearsvc, total=   2.3s\n"
     ]
    },
    {
     "name": "stderr",
     "output_type": "stream",
     "text": [
      "[Parallel(n_jobs=1)]: Done   5 out of   5 | elapsed:  2.1min finished\n"
     ]
    },
    {
     "data": {
      "text/plain": [
       "StackingClassifier(estimators=[('pipe1',\n",
       "                                Pipeline(steps=[('tfidfvectorizer',\n",
       "                                                 TfidfVectorizer(lowercase=False,\n",
       "                                                                 max_df=0.8,\n",
       "                                                                 min_df=0.001,\n",
       "                                                                 tokenizer=<function word_tokenize at 0x7fd5714a2160>)),\n",
       "                                                ('logisticregression',\n",
       "                                                 LogisticRegression(max_iter=2500,\n",
       "                                                                    multi_class='ovr',\n",
       "                                                                    random_state=1))],\n",
       "                                         verbose=True)),\n",
       "                               ('pipe2',\n",
       "                                Pipeline(steps=[('tfidfvectorizer',\n",
       "                                                 TfidfVectorizer(m...\n",
       "                                                 SGDClassifier(penalty='l1',\n",
       "                                                               random_state=1))],\n",
       "                                         verbose=True)),\n",
       "                               ('pipe3',\n",
       "                                Pipeline(steps=[('tfidfvectorizer',\n",
       "                                                 TfidfVectorizer(lowercase=False,\n",
       "                                                                 max_df=0.8,\n",
       "                                                                 min_df=0.001,\n",
       "                                                                 ngram_range=(1,\n",
       "                                                                              3),\n",
       "                                                                 tokenizer=<function word_tokenize at 0x7fd5714a2160>)),\n",
       "                                                ('linearsvc',\n",
       "                                                 LinearSVC(random_state=1))],\n",
       "                                         verbose=True))],\n",
       "                   final_estimator=LogisticRegression(max_iter=1000,\n",
       "                                                      multi_class='multinomial'),\n",
       "                   verbose=1)"
      ]
     },
     "execution_count": 118,
     "metadata": {},
     "output_type": "execute_result"
    }
   ],
   "source": [
    "stacked1.fit(X_train, y_train)"
   ]
  },
  {
   "cell_type": "code",
   "execution_count": 119,
   "id": "polar-dictionary",
   "metadata": {},
   "outputs": [],
   "source": [
    "y_pred_stacked1 = stacked1.predict(X_dev)"
   ]
  },
  {
   "cell_type": "code",
   "execution_count": 120,
   "id": "specified-energy",
   "metadata": {},
   "outputs": [
    {
     "name": "stdout",
     "output_type": "stream",
     "text": [
      "0.8290909090909091\n"
     ]
    }
   ],
   "source": [
    "print(accuracy_score(y_dev, y_pred_stacked1))"
   ]
  },
  {
   "cell_type": "code",
   "execution_count": 121,
   "id": "charged-halloween",
   "metadata": {},
   "outputs": [
    {
     "name": "stdout",
     "output_type": "stream",
     "text": [
      "              precision    recall  f1-score   support\n",
      "\n",
      "         ARA       0.80      0.77      0.79       100\n",
      "         DEU       0.95      0.96      0.96       100\n",
      "         FRA       0.82      0.86      0.84       100\n",
      "         HIN       0.76      0.78      0.77       100\n",
      "         ITA       0.89      0.88      0.88       100\n",
      "         JPN       0.77      0.81      0.79       100\n",
      "         KOR       0.82      0.72      0.77       100\n",
      "         SPA       0.83      0.81      0.82       100\n",
      "         TEL       0.82      0.78      0.80       100\n",
      "         TUR       0.84      0.86      0.85       100\n",
      "         ZHO       0.82      0.89      0.86       100\n",
      "\n",
      "    accuracy                           0.83      1100\n",
      "   macro avg       0.83      0.83      0.83      1100\n",
      "weighted avg       0.83      0.83      0.83      1100\n",
      "\n"
     ]
    }
   ],
   "source": [
    "print(classification_report(y_dev, y_pred_stacked1))"
   ]
  },
  {
   "cell_type": "markdown",
   "id": "referenced-darkness",
   "metadata": {},
   "source": [
    "### 5.2. Stacked 2. Logistic Regression, Stochastic Gradient Descent Classifier, LinearSVC, TfidfVectorizer <u>(BEST PERFORMING CLASSIFIER)</u>\n",
    "<u>Input feature:</u> lemmatized text"
   ]
  },
  {
   "cell_type": "code",
   "execution_count": 8,
   "id": "gentle-contact",
   "metadata": {},
   "outputs": [],
   "source": [
    "X_lemma = df.lemma_text.values\n",
    "y_lemma = df.Language.values\n",
    "\n",
    "X_train_lemma, X_dev_lemma, y_train_lemma, y_dev_lemma = train_test_split(X_lemma,\n",
    "                                                  y_lemma, \n",
    "                                                  test_size=0.1,\n",
    "                                                  random_state=1,\n",
    "                                                  shuffle=True,\n",
    "                                                  stratify=y_lemma)"
   ]
  },
  {
   "cell_type": "code",
   "execution_count": 10,
   "id": "lucky-intensity",
   "metadata": {},
   "outputs": [],
   "source": [
    "tfidf_log_reg = TfidfVectorizer(tokenizer = nltk__word_tokenizer,\n",
    "                               norm=\"l2\", \n",
    "                               ngram_range=(1,1),\n",
    "                               min_df = 0.001, \n",
    "                               max_df = 0.8, \n",
    "                               lowercase=False)\n",
    "log_reg = LogisticRegression(multi_class=\"ovr\", \n",
    "                             max_iter=2500, \n",
    "                             C = 1.0,\n",
    "                             random_state=1)\n",
    "#####\n",
    "\n",
    "tfidf_sgd = TfidfVectorizer(tokenizer = nltk__word_tokenizer, \n",
    "                            norm=\"l2\", \n",
    "                            ngram_range=(1,4), \n",
    "                            min_df = 0.1, \n",
    "                            max_df = 1.0, \n",
    "                            lowercase=True)\n",
    "sgd = SGDClassifier(penalty = \"l1\", \n",
    "                    max_iter = 1000, \n",
    "                    loss = \"hinge\", \n",
    "                    alpha = 0.0001,\n",
    "                    random_state=1)\n",
    "\n",
    "#####\n",
    "\n",
    "tfidf_linear_svc = TfidfVectorizer(tokenizer = nltk__word_tokenizer,\n",
    "                                  norm = \"l2\", \n",
    "                                  ngram_range=(1,3), \n",
    "                                  min_df = 0.001, \n",
    "                                  max_df = 0.8,\n",
    "                                  lowercase=False)\n",
    "linear_svc = LinearSVC(max_iter = 1000, \n",
    "                       C = 1.0,\n",
    "                       random_state=1)\n",
    "\n",
    "#####\n",
    "\n",
    "final_logreg = LogisticRegression(multi_class=\"multinomial\",\n",
    "                                 max_iter=1000)\n",
    "\n",
    "stacked2 = StackingClassifier(estimators=[('pipe1', make_pipeline(tfidf_log_reg, log_reg, verbose=True)),\n",
    "                                          ('pipe2', make_pipeline(tfidf_sgd, sgd, verbose=True)),\n",
    "                                          ('pipe3', make_pipeline(tfidf_linear_svc, linear_svc, verbose=True))],\n",
    "                              final_estimator=final_logreg,\n",
    "                              verbose=1)\n"
   ]
  },
  {
   "cell_type": "code",
   "execution_count": 11,
   "id": "sitting-sharing",
   "metadata": {},
   "outputs": [
    {
     "name": "stdout",
     "output_type": "stream",
     "text": [
      "[Pipeline] ... (step 1 of 2) Processing tfidfvectorizer, total=  18.8s\n",
      "[Pipeline]  (step 2 of 2) Processing logisticregression, total=   2.4s\n",
      "[Pipeline] ... (step 1 of 2) Processing tfidfvectorizer, total=  33.4s\n",
      "[Pipeline] ..... (step 2 of 2) Processing sgdclassifier, total=   1.8s\n",
      "[Pipeline] ... (step 1 of 2) Processing tfidfvectorizer, total=  27.0s\n",
      "[Pipeline] ......... (step 2 of 2) Processing linearsvc, total=   2.9s\n"
     ]
    },
    {
     "name": "stderr",
     "output_type": "stream",
     "text": [
      "[Parallel(n_jobs=1)]: Using backend SequentialBackend with 1 concurrent workers.\n"
     ]
    },
    {
     "name": "stdout",
     "output_type": "stream",
     "text": [
      "[Pipeline] ... (step 1 of 2) Processing tfidfvectorizer, total=  14.3s\n",
      "[Pipeline]  (step 2 of 2) Processing logisticregression, total=   1.8s\n",
      "[Pipeline] ... (step 1 of 2) Processing tfidfvectorizer, total=  14.7s\n",
      "[Pipeline]  (step 2 of 2) Processing logisticregression, total=   2.0s\n",
      "[Pipeline] ... (step 1 of 2) Processing tfidfvectorizer, total=  14.6s\n",
      "[Pipeline]  (step 2 of 2) Processing logisticregression, total=   1.9s\n",
      "[Pipeline] ... (step 1 of 2) Processing tfidfvectorizer, total=  14.3s\n",
      "[Pipeline]  (step 2 of 2) Processing logisticregression, total=   2.3s\n",
      "[Pipeline] ... (step 1 of 2) Processing tfidfvectorizer, total=  15.1s\n",
      "[Pipeline]  (step 2 of 2) Processing logisticregression, total=   1.8s\n"
     ]
    },
    {
     "name": "stderr",
     "output_type": "stream",
     "text": [
      "[Parallel(n_jobs=1)]: Done   5 out of   5 | elapsed:  1.7min finished\n",
      "[Parallel(n_jobs=1)]: Using backend SequentialBackend with 1 concurrent workers.\n"
     ]
    },
    {
     "name": "stdout",
     "output_type": "stream",
     "text": [
      "[Pipeline] ... (step 1 of 2) Processing tfidfvectorizer, total=  27.2s\n",
      "[Pipeline] ..... (step 2 of 2) Processing sgdclassifier, total=   1.6s\n",
      "[Pipeline] ... (step 1 of 2) Processing tfidfvectorizer, total=  26.9s\n",
      "[Pipeline] ..... (step 2 of 2) Processing sgdclassifier, total=   1.6s\n",
      "[Pipeline] ... (step 1 of 2) Processing tfidfvectorizer, total=  26.5s\n",
      "[Pipeline] ..... (step 2 of 2) Processing sgdclassifier, total=   1.6s\n",
      "[Pipeline] ... (step 1 of 2) Processing tfidfvectorizer, total=  26.4s\n",
      "[Pipeline] ..... (step 2 of 2) Processing sgdclassifier, total=   1.3s\n",
      "[Pipeline] ... (step 1 of 2) Processing tfidfvectorizer, total=  26.2s\n",
      "[Pipeline] ..... (step 2 of 2) Processing sgdclassifier, total=   1.4s\n"
     ]
    },
    {
     "name": "stderr",
     "output_type": "stream",
     "text": [
      "[Parallel(n_jobs=1)]: Done   5 out of   5 | elapsed:  2.8min finished\n",
      "[Parallel(n_jobs=1)]: Using backend SequentialBackend with 1 concurrent workers.\n"
     ]
    },
    {
     "name": "stdout",
     "output_type": "stream",
     "text": [
      "[Pipeline] ... (step 1 of 2) Processing tfidfvectorizer, total=  21.5s\n",
      "[Pipeline] ......... (step 2 of 2) Processing linearsvc, total=   2.3s\n",
      "[Pipeline] ... (step 1 of 2) Processing tfidfvectorizer, total=  20.9s\n",
      "[Pipeline] ......... (step 2 of 2) Processing linearsvc, total=   2.4s\n",
      "[Pipeline] ... (step 1 of 2) Processing tfidfvectorizer, total=  21.3s\n",
      "[Pipeline] ......... (step 2 of 2) Processing linearsvc, total=   2.2s\n",
      "[Pipeline] ... (step 1 of 2) Processing tfidfvectorizer, total=  20.7s\n",
      "[Pipeline] ......... (step 2 of 2) Processing linearsvc, total=   2.2s\n",
      "[Pipeline] ... (step 1 of 2) Processing tfidfvectorizer, total=  21.2s\n",
      "[Pipeline] ......... (step 2 of 2) Processing linearsvc, total=   2.3s\n"
     ]
    },
    {
     "name": "stderr",
     "output_type": "stream",
     "text": [
      "[Parallel(n_jobs=1)]: Done   5 out of   5 | elapsed:  2.3min finished\n"
     ]
    },
    {
     "data": {
      "text/plain": [
       "StackingClassifier(estimators=[('pipe1',\n",
       "                                Pipeline(steps=[('tfidfvectorizer',\n",
       "                                                 TfidfVectorizer(lowercase=False,\n",
       "                                                                 max_df=0.8,\n",
       "                                                                 min_df=0.001,\n",
       "                                                                 tokenizer=<function word_tokenize at 0x7fae3987cf70>)),\n",
       "                                                ('logisticregression',\n",
       "                                                 LogisticRegression(max_iter=2500,\n",
       "                                                                    multi_class='ovr',\n",
       "                                                                    random_state=1))],\n",
       "                                         verbose=True)),\n",
       "                               ('pipe2',\n",
       "                                Pipeline(steps=[('tfidfvectorizer',\n",
       "                                                 TfidfVectorizer(m...\n",
       "                                                 SGDClassifier(penalty='l1',\n",
       "                                                               random_state=1))],\n",
       "                                         verbose=True)),\n",
       "                               ('pipe3',\n",
       "                                Pipeline(steps=[('tfidfvectorizer',\n",
       "                                                 TfidfVectorizer(lowercase=False,\n",
       "                                                                 max_df=0.8,\n",
       "                                                                 min_df=0.001,\n",
       "                                                                 ngram_range=(1,\n",
       "                                                                              3),\n",
       "                                                                 tokenizer=<function word_tokenize at 0x7fae3987cf70>)),\n",
       "                                                ('linearsvc',\n",
       "                                                 LinearSVC(random_state=1))],\n",
       "                                         verbose=True))],\n",
       "                   final_estimator=LogisticRegression(max_iter=1000,\n",
       "                                                      multi_class='multinomial'),\n",
       "                   verbose=1)"
      ]
     },
     "execution_count": 11,
     "metadata": {},
     "output_type": "execute_result"
    }
   ],
   "source": [
    "stacked2.fit(X_train_lemma, y_train_lemma)"
   ]
  },
  {
   "cell_type": "code",
   "execution_count": 12,
   "id": "internal-western",
   "metadata": {},
   "outputs": [],
   "source": [
    "y_pred_stacked2 = stacked2.predict(X_dev_lemma)"
   ]
  },
  {
   "cell_type": "code",
   "execution_count": 14,
   "id": "dangerous-blowing",
   "metadata": {},
   "outputs": [
    {
     "name": "stdout",
     "output_type": "stream",
     "text": [
      "0.8336363636363636\n"
     ]
    }
   ],
   "source": [
    "print(accuracy_score(y_dev_lemma, y_pred_stacked2))"
   ]
  },
  {
   "cell_type": "code",
   "execution_count": 16,
   "id": "better-equilibrium",
   "metadata": {},
   "outputs": [
    {
     "name": "stdout",
     "output_type": "stream",
     "text": [
      "              precision    recall  f1-score   support\n",
      "\n",
      "         ARA       0.82      0.79      0.81       100\n",
      "         DEU       0.90      0.93      0.92       100\n",
      "         FRA       0.81      0.87      0.84       100\n",
      "         HIN       0.80      0.77      0.79       100\n",
      "         ITA       0.89      0.90      0.90       100\n",
      "         JPN       0.83      0.80      0.82       100\n",
      "         KOR       0.80      0.77      0.79       100\n",
      "         SPA       0.84      0.77      0.80       100\n",
      "         TEL       0.82      0.83      0.83       100\n",
      "         TUR       0.84      0.86      0.85       100\n",
      "         ZHO       0.80      0.88      0.84       100\n",
      "\n",
      "    accuracy                           0.83      1100\n",
      "   macro avg       0.83      0.83      0.83      1100\n",
      "weighted avg       0.83      0.83      0.83      1100\n",
      "\n"
     ]
    }
   ],
   "source": [
    "print(classification_report(y_dev_lemma, y_pred_stacked2))"
   ]
  },
  {
   "cell_type": "code",
   "execution_count": 19,
   "id": "square-possibility",
   "metadata": {},
   "outputs": [
    {
     "data": {
      "image/png": "[encoded data removed]",
      "text/plain": [
       "<Figure size 432x288 with 2 Axes>"
      ]
     },
     "metadata": {
      "needs_background": "light"
     },
     "output_type": "display_data"
    }
   ],
   "source": [
    "confusion_matrix = pd.crosstab(y_dev_lemma, y_pred_stacked2, rownames=['Actual'], colnames=['Predicted']) \n",
    "sn.heatmap(confusion_matrix, annot=True, cmap='Blues', fmt='g')\n",
    "plt.show()"
   ]
  },
  {
   "cell_type": "markdown",
   "id": "choice-competition",
   "metadata": {},
   "source": [
    "\n",
    "## 6. Combining features"
   ]
  },
  {
   "cell_type": "code",
   "execution_count": 5,
   "id": "matched-server",
   "metadata": {},
   "outputs": [],
   "source": [
    "df = pd.read_csv(\"train_preprocessed.csv\")"
   ]
  },
  {
   "cell_type": "code",
   "execution_count": 6,
   "id": "rational-morning",
   "metadata": {},
   "outputs": [],
   "source": [
    "# creating a development dataframe\n",
    "dev = df.groupby(\"Language\", group_keys=False).sample(n = 100, random_state=1)\n",
    "train = df.drop(dev.index)"
   ]
  },
  {
   "cell_type": "code",
   "execution_count": 137,
   "id": "cross-calculator",
   "metadata": {},
   "outputs": [
    {
     "name": "stdout",
     "output_type": "stream",
     "text": [
      "(9900, 10) (1100, 10)\n"
     ]
    }
   ],
   "source": [
    "print(train.shape, dev.shape)"
   ]
  },
  {
   "cell_type": "code",
   "execution_count": 138,
   "id": "contained-tampa",
   "metadata": {},
   "outputs": [
    {
     "data": {
      "text/plain": [
       "ZHO    900\n",
       "ITA    900\n",
       "DEU    900\n",
       "TUR    900\n",
       "TEL    900\n",
       "SPA    900\n",
       "FRA    900\n",
       "ARA    900\n",
       "HIN    900\n",
       "KOR    900\n",
       "JPN    900\n",
       "Name: Language, dtype: int64"
      ]
     },
     "execution_count": 138,
     "metadata": {},
     "output_type": "execute_result"
    }
   ],
   "source": [
    "train.Language.value_counts()"
   ]
  },
  {
   "cell_type": "code",
   "execution_count": 139,
   "id": "breathing-cambridge",
   "metadata": {},
   "outputs": [
    {
     "data": {
      "text/plain": [
       "ZHO    100\n",
       "KOR    100\n",
       "TUR    100\n",
       "SPA    100\n",
       "JPN    100\n",
       "ITA    100\n",
       "FRA    100\n",
       "DEU    100\n",
       "TEL    100\n",
       "ARA    100\n",
       "HIN    100\n",
       "Name: Language, dtype: int64"
      ]
     },
     "execution_count": 139,
     "metadata": {},
     "output_type": "execute_result"
    }
   ],
   "source": [
    "dev.Language.value_counts()"
   ]
  },
  {
   "cell_type": "markdown",
   "id": "wrapped-lying",
   "metadata": {},
   "source": [
    "### 6.1. Text, text length in number of words, and character *n*-grams.\n",
    "- <u>Classifier:</u> Logistic Regression\n",
    "- <u>Input feature:</u> Text, text length in number of words, and character *n*-grams"
   ]
  },
  {
   "cell_type": "code",
   "execution_count": 168,
   "id": "concrete-neighbor",
   "metadata": {},
   "outputs": [],
   "source": [
    "X_train = train[[\"text\", \"n_words\"]]\n",
    "y_train = train[\"Language\"]\n",
    "\n",
    "X_dev = dev[[\"text\", \"n_words\"]]\n",
    "y_dev = dev[\"Language\"]"
   ]
  },
  {
   "cell_type": "code",
   "execution_count": 169,
   "id": "studied-event",
   "metadata": {},
   "outputs": [],
   "source": [
    "tfidf_text = TfidfVectorizer(ngram_range=(1,2),  # article Malmasi et al. (2018)\n",
    "                               min_df = 0.001, \n",
    "                               max_df = 0.8, \n",
    "                               lowercase=False)\n",
    "\n",
    "tfidf_char = TfidfVectorizer(analyzer=\"char_wb\",\n",
    "                            ngram_range=(1,3))\n",
    "\n",
    "sc = StandardScaler(with_mean=False) # for numeric feature, with_mean=False to work with sparse vector\n",
    "\n",
    "preprocessor1 = make_column_transformer(\n",
    "    (sc, [\"n_words\"]),\n",
    "    (tfidf_text, \"text\"),\n",
    "    (tfidf_char, \"text\"),\n",
    "remainder=\"passthrough\")\n",
    "\n",
    "\n",
    "log_reg = LogisticRegression(max_iter=1000)"
   ]
  },
  {
   "cell_type": "code",
   "execution_count": 170,
   "id": "molecular-hindu",
   "metadata": {},
   "outputs": [],
   "source": [
    "combo1 = make_pipeline(preprocessor1, log_reg, verbose=True)"
   ]
  },
  {
   "cell_type": "code",
   "execution_count": 171,
   "id": "lesser-latest",
   "metadata": {},
   "outputs": [
    {
     "name": "stdout",
     "output_type": "stream",
     "text": [
      "[Pipeline] . (step 1 of 2) Processing columntransformer, total=  24.0s\n",
      "[Pipeline]  (step 2 of 2) Processing logisticregression, total= 2.1min\n"
     ]
    },
    {
     "data": {
      "text/plain": [
       "Pipeline(steps=[('columntransformer',\n",
       "                 ColumnTransformer(remainder='passthrough',\n",
       "                                   transformers=[('standardscaler',\n",
       "                                                  StandardScaler(with_mean=False),\n",
       "                                                  ['n_words']),\n",
       "                                                 ('tfidfvectorizer-1',\n",
       "                                                  TfidfVectorizer(lowercase=False,\n",
       "                                                                  max_df=0.8,\n",
       "                                                                  min_df=0.001,\n",
       "                                                                  ngram_range=(1,\n",
       "                                                                               2)),\n",
       "                                                  'text'),\n",
       "                                                 ('tfidfvectorizer-2',\n",
       "                                                  TfidfVectorizer(analyzer='char_wb',\n",
       "                                                                  ngram_range=(1,\n",
       "                                                                               3)),\n",
       "                                                  'text')])),\n",
       "                ('logisticregression', LogisticRegression(max_iter=1000))],\n",
       "         verbose=True)"
      ]
     },
     "execution_count": 171,
     "metadata": {},
     "output_type": "execute_result"
    }
   ],
   "source": [
    "combo1.fit(X_train, y_train)"
   ]
  },
  {
   "cell_type": "code",
   "execution_count": 172,
   "id": "plastic-fashion",
   "metadata": {},
   "outputs": [],
   "source": [
    "y_pred_combo1 = combo1.predict(X_dev)"
   ]
  },
  {
   "cell_type": "code",
   "execution_count": 173,
   "id": "statistical-folder",
   "metadata": {},
   "outputs": [
    {
     "name": "stdout",
     "output_type": "stream",
     "text": [
      "0.7327272727272728\n"
     ]
    }
   ],
   "source": [
    "print(accuracy_score(y_dev, y_pred_combo1))"
   ]
  },
  {
   "cell_type": "code",
   "execution_count": 175,
   "id": "addressed-circulation",
   "metadata": {},
   "outputs": [
    {
     "name": "stdout",
     "output_type": "stream",
     "text": [
      "              precision    recall  f1-score   support\n",
      "\n",
      "         ARA       0.71      0.72      0.72       100\n",
      "         DEU       0.74      0.93      0.83       100\n",
      "         FRA       0.78      0.77      0.77       100\n",
      "         HIN       0.63      0.67      0.65       100\n",
      "         ITA       0.84      0.78      0.81       100\n",
      "         JPN       0.70      0.68      0.69       100\n",
      "         KOR       0.65      0.70      0.67       100\n",
      "         SPA       0.74      0.62      0.67       100\n",
      "         TEL       0.69      0.76      0.72       100\n",
      "         TUR       0.83      0.74      0.78       100\n",
      "         ZHO       0.79      0.69      0.74       100\n",
      "\n",
      "    accuracy                           0.73      1100\n",
      "   macro avg       0.74      0.73      0.73      1100\n",
      "weighted avg       0.74      0.73      0.73      1100\n",
      "\n"
     ]
    }
   ],
   "source": [
    "print(classification_report(y_dev, y_pred_combo1))"
   ]
  },
  {
   "cell_type": "markdown",
   "id": "future-proceeding",
   "metadata": {},
   "source": [
    "### 6.2. Lemmatized text, function words and character *n*-grams"
   ]
  },
  {
   "cell_type": "code",
   "execution_count": 7,
   "id": "annual-administrator",
   "metadata": {},
   "outputs": [],
   "source": [
    "X_train = train[[\"lemma_text\", \"text\", \"stop_words\"]]\n",
    "y_train = train[\"Language\"]\n",
    "\n",
    "X_dev = dev[[\"lemma_text\", \"text\", \"stop_words\"]]\n",
    "y_dev = dev[\"Language\"]"
   ]
  },
  {
   "cell_type": "code",
   "execution_count": 34,
   "id": "perceived-connection",
   "metadata": {},
   "outputs": [],
   "source": [
    "tfidf_lemma = TfidfVectorizer(ngram_range=(1,2),# article Malmasi et al. (2018)\n",
    "                              min_df=0.001,\n",
    "                              max_df = 0.8,\n",
    "                               lowercase=False)\n",
    "\n",
    "tfidf_char = TfidfVectorizer(analyzer=\"char_wb\",\n",
    "                            ngram_range=(1,3)) # article Malmasi et al. (2018), character uni-, bi- and trigrams\n",
    "\n",
    "tfidf_stop_words = TfidfVectorizer(ngram_range=(1,2)) # article Malmasi et al. (2018), function word uni- and bigrams.\n",
    "\n",
    "preprocessor2 = make_column_transformer(\n",
    "    (tfidf_lemma, \"lemma_text\"),\n",
    "    (tfidf_char, \"text\"),\n",
    "    (tfidf_stop_words, \"stop_words\")\n",
    ")\n",
    "\n",
    "logreg = LogisticRegression(max_iter=1000, verbose=1, random_state=1)"
   ]
  },
  {
   "cell_type": "code",
   "execution_count": 35,
   "id": "adverse-master",
   "metadata": {},
   "outputs": [],
   "source": [
    "combo2 = make_pipeline(preprocessor2, logreg, verbose=True)"
   ]
  },
  {
   "cell_type": "code",
   "execution_count": 36,
   "id": "decimal-vulnerability",
   "metadata": {},
   "outputs": [
    {
     "name": "stdout",
     "output_type": "stream",
     "text": [
      "[Pipeline] . (step 1 of 2) Processing columntransformer, total=  27.4s\n"
     ]
    },
    {
     "name": "stderr",
     "output_type": "stream",
     "text": [
      "[Parallel(n_jobs=1)]: Using backend SequentialBackend with 1 concurrent workers.\n"
     ]
    },
    {
     "name": "stdout",
     "output_type": "stream",
     "text": [
      "[Pipeline]  (step 2 of 2) Processing logisticregression, total= 1.2min\n"
     ]
    },
    {
     "name": "stderr",
     "output_type": "stream",
     "text": [
      "[Parallel(n_jobs=1)]: Done   1 out of   1 | elapsed:  1.2min finished\n"
     ]
    },
    {
     "data": {
      "text/plain": [
       "Pipeline(steps=[('columntransformer',\n",
       "                 ColumnTransformer(transformers=[('tfidfvectorizer-1',\n",
       "                                                  TfidfVectorizer(lowercase=False,\n",
       "                                                                  max_df=0.8,\n",
       "                                                                  min_df=0.001,\n",
       "                                                                  ngram_range=(1,\n",
       "                                                                               2)),\n",
       "                                                  'lemma_text'),\n",
       "                                                 ('tfidfvectorizer-2',\n",
       "                                                  TfidfVectorizer(analyzer='char_wb',\n",
       "                                                                  ngram_range=(1,\n",
       "                                                                               3)),\n",
       "                                                  'text'),\n",
       "                                                 ('tfidfvectorizer-3',\n",
       "                                                  TfidfVectorizer(ngram_range=(1,\n",
       "                                                                               2)),\n",
       "                                                  'stop_words')])),\n",
       "                ('logisticregression',\n",
       "                 LogisticRegression(max_iter=1000, random_state=1, verbose=1))],\n",
       "         verbose=True)"
      ]
     },
     "execution_count": 36,
     "metadata": {},
     "output_type": "execute_result"
    }
   ],
   "source": [
    "combo2.fit(X_train, y_train)"
   ]
  },
  {
   "cell_type": "code",
   "execution_count": 37,
   "id": "assumed-wayne",
   "metadata": {},
   "outputs": [],
   "source": [
    "y_pred_combo2 = combo2.predict(X_dev)"
   ]
  },
  {
   "cell_type": "code",
   "execution_count": 40,
   "id": "accepted-number",
   "metadata": {},
   "outputs": [
    {
     "name": "stdout",
     "output_type": "stream",
     "text": [
      "0.7045454545454546\n"
     ]
    }
   ],
   "source": [
    "print(accuracy_score(y_dev, y_pred_combo2))"
   ]
  },
  {
   "cell_type": "code",
   "execution_count": 39,
   "id": "mechanical-anxiety",
   "metadata": {},
   "outputs": [
    {
     "name": "stdout",
     "output_type": "stream",
     "text": [
      "              precision    recall  f1-score   support\n",
      "\n",
      "         ARA       0.64      0.66      0.65       100\n",
      "         DEU       0.75      0.89      0.82       100\n",
      "         FRA       0.71      0.72      0.71       100\n",
      "         HIN       0.66      0.73      0.70       100\n",
      "         ITA       0.78      0.76      0.77       100\n",
      "         JPN       0.71      0.66      0.68       100\n",
      "         KOR       0.61      0.67      0.64       100\n",
      "         SPA       0.75      0.63      0.68       100\n",
      "         TEL       0.72      0.76      0.74       100\n",
      "         TUR       0.77      0.61      0.68       100\n",
      "         ZHO       0.66      0.66      0.66       100\n",
      "\n",
      "    accuracy                           0.70      1100\n",
      "   macro avg       0.71      0.70      0.70      1100\n",
      "weighted avg       0.71      0.70      0.70      1100\n",
      "\n"
     ]
    }
   ],
   "source": [
    "print(classification_report(y_dev, y_pred_combo2))"
   ]
  },
  {
   "cell_type": "markdown",
   "id": "inside-fortune",
   "metadata": {},
   "source": [
    "### 6.3. Lemmatized text, text length in number of words, and character *n*-grams\n",
    "- <u>Classifier:</u> best stacked classifier (obtaining 83%), with the best parameters for each of the classifiers (obtained during RandomizedSearchCV)\n",
    "    - Logistic Regression\n",
    "    - SGDClassifier\n",
    "    - LinearSVC\n",
    "- <u>Input features:</u> lemmatized text, text length in number of words, and character *n*-grams"
   ]
  },
  {
   "cell_type": "code",
   "execution_count": 41,
   "id": "eight-dragon",
   "metadata": {},
   "outputs": [],
   "source": [
    "X_train = train[[\"text\", \"n_words\", \"lemma_text\"]]\n",
    "y_train = train[\"Language\"]\n",
    "\n",
    "X_dev = dev[[\"text\", \"n_words\", \"lemma_text\"]]\n",
    "y_dev = dev[\"Language\"]"
   ]
  },
  {
   "cell_type": "code",
   "execution_count": 42,
   "id": "jewish-concern",
   "metadata": {},
   "outputs": [],
   "source": [
    "tfidf_text = TfidfVectorizer(ngram_range=(1,2),  \n",
    "                               min_df = 0.001, \n",
    "                               max_df = 0.8, \n",
    "                               lowercase=False)\n",
    "\n",
    "tfidf_lemma = TfidfVectorizer(ngram_range=(1,2),  \n",
    "                              min_df = 0.001,\n",
    "                              max_df = 0.8,\n",
    "                              lowercase=False)\n",
    "\n",
    "tfidf_char = TfidfVectorizer(analyzer=\"char_wb\",\n",
    "                            ngram_range=(1,3))\n",
    "\n",
    "sc = StandardScaler(with_mean=False) # for numeric feature, with_mean=False to work with sparse vector\n",
    "\n",
    "preprocessor = make_column_transformer(\n",
    "    (sc, [\"n_words\"]),\n",
    "    (tfidf_text, \"text\"),\n",
    "    (tfidf_char, \"text\"),\n",
    "    (tfidf_lemma, \"lemma_text\"),\n",
    "remainder=\"passthrough\")"
   ]
  },
  {
   "cell_type": "code",
   "execution_count": 44,
   "id": "periodic-translator",
   "metadata": {},
   "outputs": [],
   "source": [
    "log_reg = LogisticRegression(multi_class=\"ovr\", \n",
    "                             max_iter=2500, \n",
    "                             C = 1.0,\n",
    "                             random_state=1, verbose=1)\n",
    "\n",
    "linear_svc = LinearSVC(max_iter = 1000, \n",
    "                       C = 1.0,\n",
    "                       random_state=1, verbose=1)\n",
    "\n",
    "sgd = SGDClassifier(penalty = \"l1\", \n",
    "                    max_iter = 1000, \n",
    "                    loss = \"hinge\", \n",
    "                    alpha = 0.0001,\n",
    "                    random_state=1, verbose=1)\n",
    "\n",
    "\n",
    "final_logreg = LogisticRegression(multi_class=\"multinomial\",\n",
    "                                 max_iter=1000)\n",
    "\n",
    "stacked = StackingClassifier(estimators=[('log_reg', log_reg),\n",
    "                                          ('sgd', sgd),\n",
    "                                          ('linear_svc', linear_svc)],\n",
    "                              final_estimator=final_logreg,\n",
    "                              verbose=1)\n",
    "\n"
   ]
  },
  {
   "cell_type": "code",
   "execution_count": 45,
   "id": "appointed-wallace",
   "metadata": {},
   "outputs": [],
   "source": [
    "combo_stacked = make_pipeline(preprocessor, stacked, verbose=True)"
   ]
  },
  {
   "cell_type": "code",
   "execution_count": 1,
   "id": "apart-expense",
   "metadata": {
    "jupyter": {
     "outputs_hidden": true
    }
   },
   "outputs": [],
   "source": [
    "##### This cell was commented after predicting, as it generated an enormously verbose output, which is very \n",
    "# unpractical for the Github Repo.\n",
    "\n",
    "#combo_stacked.fit(X_train, y_train)\n"
   ]
  },
  {
   "cell_type": "code",
   "execution_count": 47,
   "id": "stunning-visit",
   "metadata": {},
   "outputs": [],
   "source": [
    "y_pred_combo_stacked = combo_stacked.predict(X_dev)"
   ]
  },
  {
   "cell_type": "code",
   "execution_count": 48,
   "id": "surprising-ordinance",
   "metadata": {},
   "outputs": [
    {
     "name": "stdout",
     "output_type": "stream",
     "text": [
      "0.8145454545454546\n"
     ]
    }
   ],
   "source": [
    "print(accuracy_score(y_dev, y_pred_combo_stacked))"
   ]
  },
  {
   "cell_type": "code",
   "execution_count": 49,
   "id": "ancient-maintenance",
   "metadata": {},
   "outputs": [
    {
     "name": "stdout",
     "output_type": "stream",
     "text": [
      "              precision    recall  f1-score   support\n",
      "\n",
      "         ARA       0.79      0.83      0.81       100\n",
      "         DEU       0.88      0.92      0.90       100\n",
      "         FRA       0.79      0.81      0.80       100\n",
      "         HIN       0.76      0.78      0.77       100\n",
      "         ITA       0.83      0.91      0.87       100\n",
      "         JPN       0.75      0.73      0.74       100\n",
      "         KOR       0.71      0.76      0.73       100\n",
      "         SPA       0.81      0.79      0.80       100\n",
      "         TEL       0.81      0.80      0.80       100\n",
      "         TUR       0.91      0.84      0.87       100\n",
      "         ZHO       0.92      0.79      0.85       100\n",
      "\n",
      "    accuracy                           0.81      1100\n",
      "   macro avg       0.82      0.81      0.81      1100\n",
      "weighted avg       0.82      0.81      0.81      1100\n",
      "\n"
     ]
    }
   ],
   "source": [
    "print(classification_report(y_dev, y_pred_combo_stacked))"
   ]
  }
 ],
 "metadata": {
  "kernelspec": {
   "display_name": "Python 3",
   "language": "python",
   "name": "python3"
  },
  "language_info": {
   "codemirror_mode": {
    "name": "ipython",
    "version": 3
   },
   "file_extension": ".py",
   "mimetype": "text/x-python",
   "name": "python",
   "nbconvert_exporter": "python",
   "pygments_lexer": "ipython3",
   "version": "3.8.5"
  }
 },
 "nbformat": 4,
 "nbformat_minor": 5
}
