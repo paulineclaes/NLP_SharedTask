{
 "cells": [
  {
   "cell_type": "markdown",
   "id": "round-salon",
   "metadata": {},
   "source": [
    "# NLP Shared Task 2021\n",
    "\n",
    "## Proficiency Level Identification Notebook\n",
    "\n",
    "Pauline Claes"
   ]
  },
  {
   "cell_type": "code",
   "execution_count": 94,
   "id": "polyphonic-immune",
   "metadata": {},
   "outputs": [
    {
     "name": "stderr",
     "output_type": "stream",
     "text": [
      "[nltk_data] Downloading package punkt to\n",
      "[nltk_data]     /Users/paulineclaes/nltk_data...\n",
      "[nltk_data]   Package punkt is already up-to-date!\n"
     ]
    }
   ],
   "source": [
    "import pandas as pd\n",
    "import numpy as np\n",
    "import matplotlib.pyplot as plt\n",
    "import seaborn as sn\n",
    "\n",
    "import sklearn\n",
    "from sklearn.feature_extraction.text import CountVectorizer, TfidfVectorizer\n",
    "from sklearn.preprocessing import StandardScaler\n",
    "from sklearn.model_selection import train_test_split, RandomizedSearchCV\n",
    "from sklearn.pipeline import make_pipeline\n",
    "from sklearn.linear_model import SGDClassifier, LogisticRegression\n",
    "from sklearn.svm import SVC, LinearSVC\n",
    "from sklearn.metrics import classification_report, confusion_matrix, plot_confusion_matrix, accuracy_score, f1_score\n",
    "from sklearn.compose import make_column_transformer\n",
    "from sklearn.ensemble import StackingClassifier\n",
    "\n",
    "import nltk\n",
    "from nltk.tokenize import word_tokenize\n",
    "nltk__word_tokenizer = word_tokenize\n",
    "nltk.download(\"punkt\")\n",
    "import spacy\n",
    "nlp = spacy.load(\"en_core_web_sm\")\n",
    "from spacy.lang.en import English\n",
    "from nltk.corpus import stopwords\n",
    "stop_words_list = set(stopwords.words(\"english\"))\n",
    "\n",
    "\n",
    "np.random.seed(1)\n"
   ]
  },
  {
   "cell_type": "code",
   "execution_count": 92,
   "id": "continental-breath",
   "metadata": {},
   "outputs": [],
   "source": [
    "df = pd.read_csv(\"train_preprocessed.csv\")"
   ]
  },
  {
   "cell_type": "code",
   "execution_count": 93,
   "id": "accompanied-prize",
   "metadata": {},
   "outputs": [
    {
     "data": {
      "text/html": [
       "<div>\n",
       "<style scoped>\n",
       "    .dataframe tbody tr th:only-of-type {\n",
       "        vertical-align: middle;\n",
       "    }\n",
       "\n",
       "    .dataframe tbody tr th {\n",
       "        vertical-align: top;\n",
       "    }\n",
       "\n",
       "    .dataframe thead th {\n",
       "        text-align: right;\n",
       "    }\n",
       "</style>\n",
       "<table border=\"1\" class=\"dataframe\">\n",
       "  <thead>\n",
       "    <tr style=\"text-align: right;\">\n",
       "      <th></th>\n",
       "      <th>Filename</th>\n",
       "      <th>text</th>\n",
       "      <th>Language</th>\n",
       "      <th>Proficiency</th>\n",
       "      <th>pos_tags</th>\n",
       "      <th>lemma_text</th>\n",
       "      <th>n_words</th>\n",
       "      <th>n_sentences</th>\n",
       "      <th>doc_length</th>\n",
       "      <th>stop_words</th>\n",
       "    </tr>\n",
       "  </thead>\n",
       "  <tbody>\n",
       "    <tr>\n",
       "      <th>0</th>\n",
       "      <td>88.txt</td>\n",
       "      <td>Some people might think that traveling in a gr...</td>\n",
       "      <td>KOR</td>\n",
       "      <td>high</td>\n",
       "      <td>DT NNS MD VB IN VBG IN DT NN VBN IN DT NN NN V...</td>\n",
       "      <td>some people may think that travel in a group l...</td>\n",
       "      <td>384</td>\n",
       "      <td>16</td>\n",
       "      <td>1940</td>\n",
       "      <td>some that in a by a is a a has its and does no...</td>\n",
       "    </tr>\n",
       "    <tr>\n",
       "      <th>1</th>\n",
       "      <td>278.txt</td>\n",
       "      <td>IThe importance and popularity of travelling i...</td>\n",
       "      <td>DEU</td>\n",
       "      <td>medium</td>\n",
       "      <td>IN NN CC NN IN VBG VBZ RB VBG , _SP NN VBZ JJ ...</td>\n",
       "      <td>ithe importance and popularity of travel be st...</td>\n",
       "      <td>321</td>\n",
       "      <td>13</td>\n",
       "      <td>1645</td>\n",
       "      <td>and of is is in to other and but the how to do...</td>\n",
       "    </tr>\n",
       "    <tr>\n",
       "      <th>2</th>\n",
       "      <td>348.txt</td>\n",
       "      <td>It is an important decision, how to plan your ...</td>\n",
       "      <td>TUR</td>\n",
       "      <td>high</td>\n",
       "      <td>PRP VBZ DT JJ NN , WRB TO VB PRP$ NN . DT NNS ...</td>\n",
       "      <td>-PRON- be an important decision , how to plan ...</td>\n",
       "      <td>360</td>\n",
       "      <td>15</td>\n",
       "      <td>2022</td>\n",
       "      <td>it is an how to your some to a of and their so...</td>\n",
       "    </tr>\n",
       "    <tr>\n",
       "      <th>3</th>\n",
       "      <td>666.txt</td>\n",
       "      <td>Some people believe that young people can enjo...</td>\n",
       "      <td>ZHO</td>\n",
       "      <td>medium</td>\n",
       "      <td>DT NNS VBP IN JJ NNS MD VB NN JJR IN JJR NN VB...</td>\n",
       "      <td>some people believe that young people can enjo...</td>\n",
       "      <td>347</td>\n",
       "      <td>26</td>\n",
       "      <td>1891</td>\n",
       "      <td>some that can more than from my of the is the ...</td>\n",
       "    </tr>\n",
       "    <tr>\n",
       "      <th>4</th>\n",
       "      <td>733.txt</td>\n",
       "      <td>Travelling is  usually considered as good recr...</td>\n",
       "      <td>TEL</td>\n",
       "      <td>medium</td>\n",
       "      <td>NNP VBZ _SP RB VBN IN JJ NN _SP IN JJ NNS , IN...</td>\n",
       "      <td>Travelling be   usually consider as good recre...</td>\n",
       "      <td>349</td>\n",
       "      <td>13</td>\n",
       "      <td>1862</td>\n",
       "      <td>is as by as for and it is to have some and a w...</td>\n",
       "    </tr>\n",
       "  </tbody>\n",
       "</table>\n",
       "</div>"
      ],
      "text/plain": [
       "  Filename                                               text Language  \\\n",
       "0   88.txt  Some people might think that traveling in a gr...      KOR   \n",
       "1  278.txt  IThe importance and popularity of travelling i...      DEU   \n",
       "2  348.txt  It is an important decision, how to plan your ...      TUR   \n",
       "3  666.txt  Some people believe that young people can enjo...      ZHO   \n",
       "4  733.txt  Travelling is  usually considered as good recr...      TEL   \n",
       "\n",
       "  Proficiency                                           pos_tags  \\\n",
       "0        high  DT NNS MD VB IN VBG IN DT NN VBN IN DT NN NN V...   \n",
       "1      medium  IN NN CC NN IN VBG VBZ RB VBG , _SP NN VBZ JJ ...   \n",
       "2        high  PRP VBZ DT JJ NN , WRB TO VB PRP$ NN . DT NNS ...   \n",
       "3      medium  DT NNS VBP IN JJ NNS MD VB NN JJR IN JJR NN VB...   \n",
       "4      medium  NNP VBZ _SP RB VBN IN JJ NN _SP IN JJ NNS , IN...   \n",
       "\n",
       "                                          lemma_text  n_words  n_sentences  \\\n",
       "0  some people may think that travel in a group l...      384           16   \n",
       "1  ithe importance and popularity of travel be st...      321           13   \n",
       "2  -PRON- be an important decision , how to plan ...      360           15   \n",
       "3  some people believe that young people can enjo...      347           26   \n",
       "4  Travelling be   usually consider as good recre...      349           13   \n",
       "\n",
       "   doc_length                                         stop_words  \n",
       "0        1940  some that in a by a is a a has its and does no...  \n",
       "1        1645  and of is is in to other and but the how to do...  \n",
       "2        2022  it is an how to your some to a of and their so...  \n",
       "3        1891  some that can more than from my of the is the ...  \n",
       "4        1862  is as by as for and it is to have some and a w...  "
      ]
     },
     "execution_count": 93,
     "metadata": {},
     "output_type": "execute_result"
    }
   ],
   "source": [
    "df.head()"
   ]
  },
  {
   "cell_type": "code",
   "execution_count": 4,
   "id": "critical-variation",
   "metadata": {},
   "outputs": [
    {
     "data": {
      "text/plain": [
       "medium    5964\n",
       "high      3835\n",
       "low       1201\n",
       "Name: Proficiency, dtype: int64"
      ]
     },
     "execution_count": 4,
     "metadata": {},
     "output_type": "execute_result"
    }
   ],
   "source": [
    "df.Proficiency.value_counts() # unbalanced"
   ]
  },
  {
   "cell_type": "code",
   "execution_count": 5,
   "id": "democratic-swaziland",
   "metadata": {},
   "outputs": [
    {
     "data": {
      "text/plain": [
       "Text(0.5, 0, '(Target) Classes of Proficiency level')"
      ]
     },
     "execution_count": 5,
     "metadata": {},
     "output_type": "execute_result"
    },
    {
     "data": {
      "image/png": "[encoded data removed]",
      "text/plain": [
       "<Figure size 432x288 with 1 Axes>"
      ]
     },
     "metadata": {
      "needs_background": "light"
     },
     "output_type": "display_data"
    }
   ],
   "source": [
    "df['Proficiency'].value_counts().plot(kind = \"bar\")\n",
    "plt.title(\"Class distribution of Proficiency levels in TOEFL11 dataset\")\n",
    "plt.ylabel(\"Number of instances\")\n",
    "plt.xlabel(\"(Target) Classes of Proficiency level\")"
   ]
  },
  {
   "cell_type": "code",
   "execution_count": 56,
   "id": "periodic-nicaragua",
   "metadata": {},
   "outputs": [],
   "source": [
    "X = df.text.values\n",
    "y = df.Proficiency.values"
   ]
  },
  {
   "cell_type": "code",
   "execution_count": 57,
   "id": "relative-ridge",
   "metadata": {},
   "outputs": [],
   "source": [
    "X_train, X_dev, y_train, y_dev = train_test_split(X,\n",
    "                                                  y, \n",
    "                                                  test_size=0.1,\n",
    "                                                  random_state=1,\n",
    "                                                  shuffle=True,\n",
    "                                                  stratify=y)"
   ]
  },
  {
   "cell_type": "markdown",
   "id": "veterinary-occupation",
   "metadata": {},
   "source": [
    "# 1. Baselines"
   ]
  },
  {
   "cell_type": "markdown",
   "id": "serious-church",
   "metadata": {},
   "source": [
    "## 1.1. Dummy Classifier"
   ]
  },
  {
   "cell_type": "code",
   "execution_count": 8,
   "id": "former-michael",
   "metadata": {},
   "outputs": [],
   "source": [
    "from sklearn.dummy import DummyClassifier"
   ]
  },
  {
   "cell_type": "markdown",
   "id": "published-friendly",
   "metadata": {},
   "source": [
    "### 1.1.1. Dummy Classifier with CountVectorizer"
   ]
  },
  {
   "cell_type": "code",
   "execution_count": 9,
   "id": "enormous-bowling",
   "metadata": {},
   "outputs": [],
   "source": [
    "cvect = CountVectorizer()\n",
    "dummy_clf = DummyClassifier(strategy=\"stratified\", random_state=1)"
   ]
  },
  {
   "cell_type": "code",
   "execution_count": 10,
   "id": "adult-growth",
   "metadata": {},
   "outputs": [],
   "source": [
    "base1 = make_pipeline(cvect, dummy_clf, verbose=True)"
   ]
  },
  {
   "cell_type": "code",
   "execution_count": 12,
   "id": "instant-gardening",
   "metadata": {},
   "outputs": [
    {
     "name": "stdout",
     "output_type": "stream",
     "text": [
      "[Pipeline] ... (step 1 of 2) Processing countvectorizer, total=   1.8s\n",
      "[Pipeline] ... (step 2 of 2) Processing dummyclassifier, total=   0.0s\n"
     ]
    },
    {
     "data": {
      "text/plain": [
       "Pipeline(steps=[('countvectorizer', CountVectorizer()),\n",
       "                ('dummyclassifier',\n",
       "                 DummyClassifier(random_state=1, strategy='stratified'))],\n",
       "         verbose=True)"
      ]
     },
     "execution_count": 12,
     "metadata": {},
     "output_type": "execute_result"
    }
   ],
   "source": [
    "base1.fit(X_train, y_train)"
   ]
  },
  {
   "cell_type": "code",
   "execution_count": 13,
   "id": "moral-salem",
   "metadata": {},
   "outputs": [],
   "source": [
    "y_pred_dummy = base1.predict(X_dev)"
   ]
  },
  {
   "cell_type": "code",
   "execution_count": 14,
   "id": "prompt-customs",
   "metadata": {},
   "outputs": [
    {
     "name": "stdout",
     "output_type": "stream",
     "text": [
      "0.3259427657478984\n"
     ]
    }
   ],
   "source": [
    "print(f1_score(y_dev, y_pred_dummy, average=\"macro\"))"
   ]
  },
  {
   "cell_type": "code",
   "execution_count": 15,
   "id": "spatial-coaching",
   "metadata": {},
   "outputs": [
    {
     "name": "stdout",
     "output_type": "stream",
     "text": [
      "              precision    recall  f1-score   support\n",
      "\n",
      "        high       0.35      0.33      0.34       384\n",
      "         low       0.07      0.08      0.08       120\n",
      "      medium       0.57      0.56      0.56       596\n",
      "\n",
      "    accuracy                           0.43      1100\n",
      "   macro avg       0.33      0.32      0.33      1100\n",
      "weighted avg       0.44      0.43      0.43      1100\n",
      "\n"
     ]
    }
   ],
   "source": [
    "print(classification_report(y_dev, y_pred_dummy))"
   ]
  },
  {
   "cell_type": "markdown",
   "id": "romance-making",
   "metadata": {},
   "source": [
    "### 1.1.2. Dummy Classifier with TfidfVectorizer"
   ]
  },
  {
   "cell_type": "code",
   "execution_count": 16,
   "id": "natural-creek",
   "metadata": {},
   "outputs": [],
   "source": [
    "tfidf = TfidfVectorizer()\n",
    "dummy_clf = DummyClassifier(strategy=\"stratified\", random_state=1)"
   ]
  },
  {
   "cell_type": "code",
   "execution_count": 17,
   "id": "expressed-treasurer",
   "metadata": {},
   "outputs": [],
   "source": [
    "base2 = make_pipeline(tfidf, dummy_clf, verbose=True)"
   ]
  },
  {
   "cell_type": "code",
   "execution_count": 18,
   "id": "theoretical-macedonia",
   "metadata": {},
   "outputs": [
    {
     "name": "stdout",
     "output_type": "stream",
     "text": [
      "[Pipeline] ... (step 1 of 2) Processing tfidfvectorizer, total=   1.8s\n",
      "[Pipeline] ... (step 2 of 2) Processing dummyclassifier, total=   0.0s\n"
     ]
    },
    {
     "data": {
      "text/plain": [
       "Pipeline(steps=[('tfidfvectorizer', TfidfVectorizer()),\n",
       "                ('dummyclassifier',\n",
       "                 DummyClassifier(random_state=1, strategy='stratified'))],\n",
       "         verbose=True)"
      ]
     },
     "execution_count": 18,
     "metadata": {},
     "output_type": "execute_result"
    }
   ],
   "source": [
    "base2.fit(X_train, y_train)"
   ]
  },
  {
   "cell_type": "code",
   "execution_count": 19,
   "id": "arranged-reality",
   "metadata": {},
   "outputs": [],
   "source": [
    "y_pred_base_2 = base2.predict(X_dev)"
   ]
  },
  {
   "cell_type": "code",
   "execution_count": 20,
   "id": "impossible-incident",
   "metadata": {},
   "outputs": [
    {
     "name": "stdout",
     "output_type": "stream",
     "text": [
      "0.3259427657478984\n"
     ]
    }
   ],
   "source": [
    "print(f1_score(y_dev, y_pred_base_2, average=\"macro\"))"
   ]
  },
  {
   "cell_type": "code",
   "execution_count": 21,
   "id": "fresh-permit",
   "metadata": {},
   "outputs": [
    {
     "name": "stdout",
     "output_type": "stream",
     "text": [
      "              precision    recall  f1-score   support\n",
      "\n",
      "        high       0.35      0.33      0.34       384\n",
      "         low       0.07      0.08      0.08       120\n",
      "      medium       0.57      0.56      0.56       596\n",
      "\n",
      "    accuracy                           0.43      1100\n",
      "   macro avg       0.33      0.32      0.33      1100\n",
      "weighted avg       0.44      0.43      0.43      1100\n",
      "\n"
     ]
    }
   ],
   "source": [
    "print(classification_report(y_dev, y_pred_base_2))"
   ]
  },
  {
   "cell_type": "markdown",
   "id": "specific-reception",
   "metadata": {},
   "source": [
    "## 1.2. Support Vector Machine"
   ]
  },
  {
   "cell_type": "markdown",
   "id": "personalized-providence",
   "metadata": {},
   "source": [
    "### 1.2.1. SVM and CountVectorizer"
   ]
  },
  {
   "cell_type": "code",
   "execution_count": 27,
   "id": "formed-winter",
   "metadata": {},
   "outputs": [],
   "source": [
    "cvect = CountVectorizer()\n",
    "svm = SVC()"
   ]
  },
  {
   "cell_type": "code",
   "execution_count": 28,
   "id": "strong-multimedia",
   "metadata": {},
   "outputs": [],
   "source": [
    "base3 = make_pipeline(cvect, svm)"
   ]
  },
  {
   "cell_type": "code",
   "execution_count": 29,
   "id": "operational-steering",
   "metadata": {},
   "outputs": [
    {
     "data": {
      "text/plain": [
       "Pipeline(steps=[('countvectorizer', CountVectorizer()), ('svc', SVC())])"
      ]
     },
     "execution_count": 29,
     "metadata": {},
     "output_type": "execute_result"
    }
   ],
   "source": [
    "base3.fit(X_train, y_train)"
   ]
  },
  {
   "cell_type": "code",
   "execution_count": 30,
   "id": "ordered-notification",
   "metadata": {},
   "outputs": [],
   "source": [
    "y_pred_base3 = base3.predict(X_dev)"
   ]
  },
  {
   "cell_type": "code",
   "execution_count": 31,
   "id": "communist-asbestos",
   "metadata": {},
   "outputs": [
    {
     "name": "stdout",
     "output_type": "stream",
     "text": [
      "0.717869055926037\n"
     ]
    }
   ],
   "source": [
    "print(f1_score(y_dev, y_pred_base3, average=\"macro\"))"
   ]
  },
  {
   "cell_type": "code",
   "execution_count": 32,
   "id": "available-drilling",
   "metadata": {},
   "outputs": [
    {
     "name": "stdout",
     "output_type": "stream",
     "text": [
      "              precision    recall  f1-score   support\n",
      "\n",
      "        high       0.78      0.63      0.70       384\n",
      "         low       0.80      0.57      0.67       120\n",
      "      medium       0.73      0.86      0.79       596\n",
      "\n",
      "    accuracy                           0.75      1100\n",
      "   macro avg       0.77      0.69      0.72      1100\n",
      "weighted avg       0.75      0.75      0.74      1100\n",
      "\n"
     ]
    }
   ],
   "source": [
    "print(classification_report(y_dev, y_pred_base3))"
   ]
  },
  {
   "cell_type": "markdown",
   "id": "valued-gardening",
   "metadata": {},
   "source": [
    "### 1.2.2. SVM and TfidfVectorizer"
   ]
  },
  {
   "cell_type": "code",
   "execution_count": 33,
   "id": "married-animation",
   "metadata": {},
   "outputs": [],
   "source": [
    "tfidf = TfidfVectorizer()\n",
    "svm = SVC()"
   ]
  },
  {
   "cell_type": "code",
   "execution_count": 34,
   "id": "standard-forty",
   "metadata": {},
   "outputs": [],
   "source": [
    "base4 = make_pipeline(tfidf, svm, verbose=True)"
   ]
  },
  {
   "cell_type": "code",
   "execution_count": 35,
   "id": "verbal-breath",
   "metadata": {},
   "outputs": [
    {
     "name": "stdout",
     "output_type": "stream",
     "text": [
      "[Pipeline] ... (step 1 of 2) Processing tfidfvectorizer, total=   1.9s\n",
      "[Pipeline] ............... (step 2 of 2) Processing svc, total= 2.2min\n"
     ]
    },
    {
     "data": {
      "text/plain": [
       "Pipeline(steps=[('tfidfvectorizer', TfidfVectorizer()), ('svc', SVC())],\n",
       "         verbose=True)"
      ]
     },
     "execution_count": 35,
     "metadata": {},
     "output_type": "execute_result"
    }
   ],
   "source": [
    "base4.fit(X_train, y_train)"
   ]
  },
  {
   "cell_type": "code",
   "execution_count": 36,
   "id": "resident-maine",
   "metadata": {},
   "outputs": [],
   "source": [
    "y_pred_base4 = base4.predict(X_dev)"
   ]
  },
  {
   "cell_type": "code",
   "execution_count": 37,
   "id": "backed-cleveland",
   "metadata": {},
   "outputs": [
    {
     "name": "stdout",
     "output_type": "stream",
     "text": [
      "0.5898793061354849\n"
     ]
    }
   ],
   "source": [
    "print(f1_score(y_dev, y_pred_base4, average=\"macro\"))"
   ]
  },
  {
   "cell_type": "code",
   "execution_count": 38,
   "id": "casual-madness",
   "metadata": {},
   "outputs": [
    {
     "name": "stdout",
     "output_type": "stream",
     "text": [
      "              precision    recall  f1-score   support\n",
      "\n",
      "        high       0.76      0.65      0.70       384\n",
      "         low       0.85      0.18      0.30       120\n",
      "      medium       0.69      0.86      0.77       596\n",
      "\n",
      "    accuracy                           0.71      1100\n",
      "   macro avg       0.77      0.57      0.59      1100\n",
      "weighted avg       0.73      0.71      0.69      1100\n",
      "\n"
     ]
    }
   ],
   "source": [
    "print(classification_report(y_dev, y_pred_base4))"
   ]
  },
  {
   "cell_type": "markdown",
   "id": "flying-innocent",
   "metadata": {},
   "source": [
    "## 1.3. BERT\n",
    "Please check separate notebook for BERT baseline for Proficiency Level Identification."
   ]
  },
  {
   "cell_type": "markdown",
   "id": "tender-detail",
   "metadata": {},
   "source": [
    "# 2. Pipeline models"
   ]
  },
  {
   "cell_type": "markdown",
   "id": "purple-formula",
   "metadata": {},
   "source": [
    "## 2.1. Pipe1. CountVectorizer and LinearSVC"
   ]
  },
  {
   "cell_type": "code",
   "execution_count": 53,
   "id": "creative-bikini",
   "metadata": {},
   "outputs": [],
   "source": [
    "cvect = CountVectorizer(tokenizer = nltk__word_tokenizer,\n",
    "                        ngram_range=(1,3))\n",
    "linear_svc = LinearSVC(multi_class=\"ovr\", \n",
    "                      class_weight=\"balanced\",\n",
    "                      random_state=1,\n",
    "                      max_iter=5000)"
   ]
  },
  {
   "cell_type": "code",
   "execution_count": 54,
   "id": "official-occupation",
   "metadata": {},
   "outputs": [],
   "source": [
    "pipe1 = make_pipeline(cvect, linear_svc, verbose=True)"
   ]
  },
  {
   "cell_type": "code",
   "execution_count": 58,
   "id": "gross-sharing",
   "metadata": {},
   "outputs": [
    {
     "name": "stdout",
     "output_type": "stream",
     "text": [
      "[Pipeline] ... (step 1 of 2) Processing countvectorizer, total=  33.5s\n",
      "[Pipeline] ......... (step 2 of 2) Processing linearsvc, total=  12.9s\n"
     ]
    },
    {
     "data": {
      "text/plain": [
       "Pipeline(steps=[('countvectorizer',\n",
       "                 CountVectorizer(ngram_range=(1, 3),\n",
       "                                 tokenizer=<function word_tokenize at 0x7fecec69eb80>)),\n",
       "                ('linearsvc',\n",
       "                 LinearSVC(class_weight='balanced', max_iter=5000,\n",
       "                           random_state=1))],\n",
       "         verbose=True)"
      ]
     },
     "execution_count": 58,
     "metadata": {},
     "output_type": "execute_result"
    }
   ],
   "source": [
    "pipe1.fit(X_train, y_train)"
   ]
  },
  {
   "cell_type": "code",
   "execution_count": 59,
   "id": "satisfactory-center",
   "metadata": {},
   "outputs": [],
   "source": [
    "y_pred_pipe1 = pipe1.predict(X_dev)"
   ]
  },
  {
   "cell_type": "code",
   "execution_count": 60,
   "id": "subtle-pakistan",
   "metadata": {},
   "outputs": [
    {
     "name": "stdout",
     "output_type": "stream",
     "text": [
      "0.665871432804802\n"
     ]
    }
   ],
   "source": [
    "print(f1_score(y_dev, y_pred_pipe1, average=\"macro\"))"
   ]
  },
  {
   "cell_type": "code",
   "execution_count": 61,
   "id": "overhead-public",
   "metadata": {},
   "outputs": [
    {
     "name": "stdout",
     "output_type": "stream",
     "text": [
      "              precision    recall  f1-score   support\n",
      "\n",
      "        high       0.72      0.66      0.69       384\n",
      "         low       0.65      0.51      0.57       120\n",
      "      medium       0.71      0.78      0.74       596\n",
      "\n",
      "    accuracy                           0.71      1100\n",
      "   macro avg       0.69      0.65      0.67      1100\n",
      "weighted avg       0.71      0.71      0.70      1100\n",
      "\n"
     ]
    }
   ],
   "source": [
    "print(classification_report(y_dev, y_pred_pipe1))"
   ]
  },
  {
   "cell_type": "markdown",
   "id": "dependent-poland",
   "metadata": {},
   "source": [
    "## 2.2. CountVectorizer and Logistic Regression"
   ]
  },
  {
   "cell_type": "code",
   "execution_count": 14,
   "id": "criminal-driving",
   "metadata": {},
   "outputs": [],
   "source": [
    "cvect = CountVectorizer(tokenizer = nltk__word_tokenizer,\n",
    "                        ngram_range=(1,3))\n",
    "logreg = LogisticRegression(multi_class=\"ovr\",\n",
    "                            class_weight=\"balanced\", # uses value of y to automatically adjust weights inversely proportional to class frequencies\n",
    "                            max_iter = 5000,\n",
    "                            n_jobs = -1,\n",
    "                            random_state=1)"
   ]
  },
  {
   "cell_type": "code",
   "execution_count": 15,
   "id": "worldwide-collins",
   "metadata": {},
   "outputs": [],
   "source": [
    "pipe2 = make_pipeline(cvect, logreg, verbose=True)"
   ]
  },
  {
   "cell_type": "code",
   "execution_count": 16,
   "id": "homeless-google",
   "metadata": {},
   "outputs": [
    {
     "name": "stdout",
     "output_type": "stream",
     "text": [
      "[Pipeline] ... (step 1 of 2) Processing countvectorizer, total=  32.8s\n",
      "[Pipeline]  (step 2 of 2) Processing logisticregression, total= 6.6min\n"
     ]
    },
    {
     "data": {
      "text/plain": [
       "Pipeline(steps=[('countvectorizer',\n",
       "                 CountVectorizer(ngram_range=(1, 3),\n",
       "                                 tokenizer=<function word_tokenize at 0x7fecec69eb80>)),\n",
       "                ('logisticregression',\n",
       "                 LogisticRegression(class_weight='balanced', max_iter=5000,\n",
       "                                    multi_class='ovr', n_jobs=-1,\n",
       "                                    random_state=1))],\n",
       "         verbose=True)"
      ]
     },
     "execution_count": 16,
     "metadata": {},
     "output_type": "execute_result"
    }
   ],
   "source": [
    "pipe2.fit(X_train, y_train)"
   ]
  },
  {
   "cell_type": "code",
   "execution_count": 17,
   "id": "norman-profit",
   "metadata": {},
   "outputs": [],
   "source": [
    "y_pred_pipe2 = pipe2.predict(X_dev)"
   ]
  },
  {
   "cell_type": "code",
   "execution_count": 18,
   "id": "built-aberdeen",
   "metadata": {},
   "outputs": [
    {
     "name": "stdout",
     "output_type": "stream",
     "text": [
      "0.72212387761445\n"
     ]
    }
   ],
   "source": [
    "print(f1_score(y_dev, y_pred_pipe2, average=\"macro\"))"
   ]
  },
  {
   "cell_type": "code",
   "execution_count": 19,
   "id": "classified-violin",
   "metadata": {},
   "outputs": [
    {
     "name": "stdout",
     "output_type": "stream",
     "text": [
      "              precision    recall  f1-score   support\n",
      "\n",
      "        high       0.74      0.74      0.74       384\n",
      "         low       0.67      0.65      0.66       120\n",
      "      medium       0.76      0.77      0.77       596\n",
      "\n",
      "    accuracy                           0.75      1100\n",
      "   macro avg       0.72      0.72      0.72      1100\n",
      "weighted avg       0.75      0.75      0.75      1100\n",
      "\n"
     ]
    }
   ],
   "source": [
    "print(classification_report(y_dev, y_pred_pipe2))"
   ]
  },
  {
   "cell_type": "markdown",
   "id": "stuck-button",
   "metadata": {},
   "source": [
    "## 2.3. CountVectorizer and SGDClassifier"
   ]
  },
  {
   "cell_type": "code",
   "execution_count": 20,
   "id": "tracked-watts",
   "metadata": {},
   "outputs": [],
   "source": [
    "cvect = CountVectorizer(tokenizer = nltk__word_tokenizer,\n",
    "                        ngram_range=(1,3))\n",
    "sgd = SGDClassifier(loss=\"log\", \n",
    "                   max_iter=5000, \n",
    "                   n_jobs=-1,\n",
    "                   class_weight=\"balanced\",\n",
    "                   random_state=1)"
   ]
  },
  {
   "cell_type": "code",
   "execution_count": 21,
   "id": "explicit-alfred",
   "metadata": {},
   "outputs": [],
   "source": [
    "pipe3 = make_pipeline(cvect, sgd, verbose=True)"
   ]
  },
  {
   "cell_type": "code",
   "execution_count": 22,
   "id": "ordered-aaron",
   "metadata": {},
   "outputs": [
    {
     "name": "stdout",
     "output_type": "stream",
     "text": [
      "[Pipeline] ... (step 1 of 2) Processing countvectorizer, total=  32.8s\n",
      "[Pipeline] ..... (step 2 of 2) Processing sgdclassifier, total=   3.3s\n"
     ]
    },
    {
     "data": {
      "text/plain": [
       "Pipeline(steps=[('countvectorizer',\n",
       "                 CountVectorizer(ngram_range=(1, 3),\n",
       "                                 tokenizer=<function word_tokenize at 0x7fecec69eb80>)),\n",
       "                ('sgdclassifier',\n",
       "                 SGDClassifier(class_weight='balanced', loss='log',\n",
       "                               max_iter=5000, n_jobs=-1, random_state=1))],\n",
       "         verbose=True)"
      ]
     },
     "execution_count": 22,
     "metadata": {},
     "output_type": "execute_result"
    }
   ],
   "source": [
    "pipe3.fit(X_train, y_train)"
   ]
  },
  {
   "cell_type": "code",
   "execution_count": 23,
   "id": "enhanced-ordinary",
   "metadata": {},
   "outputs": [],
   "source": [
    "y_pred_pipe3 = pipe3.predict(X_dev)"
   ]
  },
  {
   "cell_type": "code",
   "execution_count": 24,
   "id": "rough-suicide",
   "metadata": {},
   "outputs": [
    {
     "name": "stdout",
     "output_type": "stream",
     "text": [
      "0.6092957081788654\n"
     ]
    }
   ],
   "source": [
    "print(f1_score(y_dev, y_pred_pipe3, average=\"macro\"))"
   ]
  },
  {
   "cell_type": "code",
   "execution_count": 25,
   "id": "median-reflection",
   "metadata": {},
   "outputs": [
    {
     "name": "stdout",
     "output_type": "stream",
     "text": [
      "              precision    recall  f1-score   support\n",
      "\n",
      "        high       0.69      0.67      0.68       384\n",
      "         low       0.62      0.32      0.42       120\n",
      "      medium       0.69      0.77      0.73       596\n",
      "\n",
      "    accuracy                           0.69      1100\n",
      "   macro avg       0.67      0.59      0.61      1100\n",
      "weighted avg       0.68      0.69      0.68      1100\n",
      "\n"
     ]
    }
   ],
   "source": [
    "print(classification_report(y_dev, y_pred_pipe3))"
   ]
  },
  {
   "cell_type": "markdown",
   "id": "attached-fifteen",
   "metadata": {},
   "source": [
    "# 3. Combining features"
   ]
  },
  {
   "cell_type": "code",
   "execution_count": 96,
   "id": "english-digit",
   "metadata": {},
   "outputs": [],
   "source": [
    "train, dev = train_test_split(df, \n",
    "                             test_size=0.1,\n",
    "                             random_state=1,\n",
    "                             shuffle=True,\n",
    "                             stratify = df.Proficiency)"
   ]
  },
  {
   "cell_type": "code",
   "execution_count": 97,
   "id": "absolute-authorization",
   "metadata": {},
   "outputs": [
    {
     "data": {
      "text/plain": [
       "medium    5368\n",
       "high      3451\n",
       "low       1081\n",
       "Name: Proficiency, dtype: int64"
      ]
     },
     "execution_count": 97,
     "metadata": {},
     "output_type": "execute_result"
    }
   ],
   "source": [
    "train.Proficiency.value_counts()"
   ]
  },
  {
   "cell_type": "code",
   "execution_count": 98,
   "id": "turned-dispatch",
   "metadata": {},
   "outputs": [
    {
     "data": {
      "text/plain": [
       "medium    596\n",
       "high      384\n",
       "low       120\n",
       "Name: Proficiency, dtype: int64"
      ]
     },
     "execution_count": 98,
     "metadata": {},
     "output_type": "execute_result"
    }
   ],
   "source": [
    "dev.Proficiency.value_counts()"
   ]
  },
  {
   "cell_type": "code",
   "execution_count": 114,
   "id": "demanding-database",
   "metadata": {
    "scrolled": true
   },
   "outputs": [
    {
     "data": {
      "text/html": [
       "<div>\n",
       "<style scoped>\n",
       "    .dataframe tbody tr th:only-of-type {\n",
       "        vertical-align: middle;\n",
       "    }\n",
       "\n",
       "    .dataframe tbody tr th {\n",
       "        vertical-align: top;\n",
       "    }\n",
       "\n",
       "    .dataframe thead th {\n",
       "        text-align: right;\n",
       "    }\n",
       "</style>\n",
       "<table border=\"1\" class=\"dataframe\">\n",
       "  <thead>\n",
       "    <tr style=\"text-align: right;\">\n",
       "      <th></th>\n",
       "      <th>Filename</th>\n",
       "      <th>text</th>\n",
       "      <th>Language</th>\n",
       "      <th>Proficiency</th>\n",
       "      <th>pos_tags</th>\n",
       "      <th>lemma_text</th>\n",
       "      <th>n_words</th>\n",
       "      <th>n_sentences</th>\n",
       "      <th>doc_length</th>\n",
       "      <th>stop_words</th>\n",
       "    </tr>\n",
       "  </thead>\n",
       "  <tbody>\n",
       "    <tr>\n",
       "      <th>9134</th>\n",
       "      <td>1664392.txt</td>\n",
       "      <td>I am in complete agreement of the statement th...</td>\n",
       "      <td>HIN</td>\n",
       "      <td>high</td>\n",
       "      <td>PRP VBP IN JJ NN IN DT NN IN PRP$ RBR JJ IN NN...</td>\n",
       "      <td>-PRON- be in complete agreement of the stateme...</td>\n",
       "      <td>306</td>\n",
       "      <td>15</td>\n",
       "      <td>1783</td>\n",
       "      <td>i am in of the that its more for to and than i...</td>\n",
       "    </tr>\n",
       "    <tr>\n",
       "      <th>2382</th>\n",
       "      <td>434670.txt</td>\n",
       "      <td>Of course I agree to the statement that we hav...</td>\n",
       "      <td>KOR</td>\n",
       "      <td>medium</td>\n",
       "      <td>RB RB PRP VBP IN DT NN IN PRP VBP TO VB RB JJ ...</td>\n",
       "      <td>of course -PRON- agree to the statement that -...</td>\n",
       "      <td>319</td>\n",
       "      <td>15</td>\n",
       "      <td>1756</td>\n",
       "      <td>of i to the that we have to be of the are each...</td>\n",
       "    </tr>\n",
       "    <tr>\n",
       "      <th>8011</th>\n",
       "      <td>1450658.txt</td>\n",
       "      <td>During my study I learned a lot about advertis...</td>\n",
       "      <td>DEU</td>\n",
       "      <td>medium</td>\n",
       "      <td>IN PRP$ NN PRP VBD DT NN IN NNS . PRP$ NN RB V...</td>\n",
       "      <td>during -PRON- study -PRON- learn a lot about a...</td>\n",
       "      <td>315</td>\n",
       "      <td>13</td>\n",
       "      <td>1784</td>\n",
       "      <td>during my i a about our that should to a but n...</td>\n",
       "    </tr>\n",
       "    <tr>\n",
       "      <th>345</th>\n",
       "      <td>63277.txt</td>\n",
       "      <td>I agree the opinion that most advertisements m...</td>\n",
       "      <td>KOR</td>\n",
       "      <td>medium</td>\n",
       "      <td>PRP VBP DT NN IN JJS NNS VBP NNS VB RBR IN PRP...</td>\n",
       "      <td>-PRON- agree the opinion that most advertiseme...</td>\n",
       "      <td>237</td>\n",
       "      <td>16</td>\n",
       "      <td>1439</td>\n",
       "      <td>i the that most than they now we in the in the...</td>\n",
       "    </tr>\n",
       "    <tr>\n",
       "      <th>2045</th>\n",
       "      <td>372234.txt</td>\n",
       "      <td>There are some advantages in beeing versed reg...</td>\n",
       "      <td>DEU</td>\n",
       "      <td>medium</td>\n",
       "      <td>EX VBP DT NNS IN NN VBD VBG DT JJ NN RB RB IN ...</td>\n",
       "      <td>there be some advantage in beeing verse regard...</td>\n",
       "      <td>339</td>\n",
       "      <td>19</td>\n",
       "      <td>1911</td>\n",
       "      <td>there are some in a as as having about a of it...</td>\n",
       "    </tr>\n",
       "  </tbody>\n",
       "</table>\n",
       "</div>"
      ],
      "text/plain": [
       "         Filename                                               text Language  \\\n",
       "9134  1664392.txt  I am in complete agreement of the statement th...      HIN   \n",
       "2382   434670.txt  Of course I agree to the statement that we hav...      KOR   \n",
       "8011  1450658.txt  During my study I learned a lot about advertis...      DEU   \n",
       "345     63277.txt  I agree the opinion that most advertisements m...      KOR   \n",
       "2045   372234.txt  There are some advantages in beeing versed reg...      DEU   \n",
       "\n",
       "     Proficiency                                           pos_tags  \\\n",
       "9134        high  PRP VBP IN JJ NN IN DT NN IN PRP$ RBR JJ IN NN...   \n",
       "2382      medium  RB RB PRP VBP IN DT NN IN PRP VBP TO VB RB JJ ...   \n",
       "8011      medium  IN PRP$ NN PRP VBD DT NN IN NNS . PRP$ NN RB V...   \n",
       "345       medium  PRP VBP DT NN IN JJS NNS VBP NNS VB RBR IN PRP...   \n",
       "2045      medium  EX VBP DT NNS IN NN VBD VBG DT JJ NN RB RB IN ...   \n",
       "\n",
       "                                             lemma_text  n_words  n_sentences  \\\n",
       "9134  -PRON- be in complete agreement of the stateme...      306           15   \n",
       "2382  of course -PRON- agree to the statement that -...      319           15   \n",
       "8011  during -PRON- study -PRON- learn a lot about a...      315           13   \n",
       "345   -PRON- agree the opinion that most advertiseme...      237           16   \n",
       "2045  there be some advantage in beeing verse regard...      339           19   \n",
       "\n",
       "      doc_length                                         stop_words  \n",
       "9134        1783  i am in of the that its more for to and than i...  \n",
       "2382        1756  of i to the that we have to be of the are each...  \n",
       "8011        1784  during my i a about our that should to a but n...  \n",
       "345         1439  i the that most than they now we in the in the...  \n",
       "2045        1911  there are some in a as as having about a of it...  "
      ]
     },
     "execution_count": 114,
     "metadata": {},
     "output_type": "execute_result"
    }
   ],
   "source": [
    "train.head()"
   ]
  },
  {
   "cell_type": "markdown",
   "id": "fleet-constraint",
   "metadata": {},
   "source": [
    "## 3.1. Combo 1. (LogisticRegression). Token *n*-grams (1,3), number of words"
   ]
  },
  {
   "cell_type": "code",
   "execution_count": 31,
   "id": "placed-reservation",
   "metadata": {},
   "outputs": [],
   "source": [
    "X_train = train[[\"text\", \"n_words\"]]\n",
    "y_train = train['Proficiency']\n",
    "\n",
    "X_dev = dev[[\"text\", \"n_words\"]]\n",
    "y_dev = dev['Proficiency']"
   ]
  },
  {
   "cell_type": "code",
   "execution_count": 33,
   "id": "ceramic-fundamentals",
   "metadata": {},
   "outputs": [],
   "source": [
    "cvect_tokens = CountVectorizer(tokenizer=nltk__word_tokenizer, ngram_range=(1,3))\n",
    "\n",
    "sc = StandardScaler(with_mean=False) # mean=False to allow to work with sparse vector\n",
    "\n",
    "preprocessor = make_column_transformer(\n",
    "    (sc, [\"n_words\"]),\n",
    "    (cvect_tokens, \"text\"), \n",
    "    remainder=\"passthrough\"\n",
    ")\n",
    "\n",
    "logreg = LogisticRegression(multi_class=\"ovr\",\n",
    "                            class_weight=\"balanced\", # uses value of y to automatically adjust weights inversely proportional to class frequencies\n",
    "                            max_iter = 5000,\n",
    "                            n_jobs = -1,\n",
    "                            random_state=1)"
   ]
  },
  {
   "cell_type": "code",
   "execution_count": 34,
   "id": "responsible-virginia",
   "metadata": {},
   "outputs": [],
   "source": [
    "combo1 = make_pipeline(preprocessor, logreg, verbose=True)"
   ]
  },
  {
   "cell_type": "code",
   "execution_count": 35,
   "id": "welcome-handle",
   "metadata": {},
   "outputs": [
    {
     "name": "stdout",
     "output_type": "stream",
     "text": [
      "[Pipeline] . (step 1 of 2) Processing columntransformer, total=  33.8s\n",
      "[Pipeline]  (step 2 of 2) Processing logisticregression, total= 7.6min\n"
     ]
    },
    {
     "data": {
      "text/plain": [
       "Pipeline(steps=[('columntransformer',\n",
       "                 ColumnTransformer(remainder='passthrough',\n",
       "                                   transformers=[('standardscaler',\n",
       "                                                  StandardScaler(with_mean=False),\n",
       "                                                  ['n_words']),\n",
       "                                                 ('countvectorizer',\n",
       "                                                  CountVectorizer(ngram_range=(1,\n",
       "                                                                               3),\n",
       "                                                                  tokenizer=<function word_tokenize at 0x7fecec69eb80>),\n",
       "                                                  'text')])),\n",
       "                ('logisticregression',\n",
       "                 LogisticRegression(class_weight='balanced', max_iter=5000,\n",
       "                                    multi_class='ovr', n_jobs=-1,\n",
       "                                    random_state=1))],\n",
       "         verbose=True)"
      ]
     },
     "execution_count": 35,
     "metadata": {},
     "output_type": "execute_result"
    }
   ],
   "source": [
    "combo1.fit(X_train, y_train)"
   ]
  },
  {
   "cell_type": "code",
   "execution_count": 36,
   "id": "social-burner",
   "metadata": {},
   "outputs": [],
   "source": [
    "y_pred_combo1 = combo1.predict(X_dev)"
   ]
  },
  {
   "cell_type": "code",
   "execution_count": 37,
   "id": "boolean-stick",
   "metadata": {},
   "outputs": [
    {
     "name": "stdout",
     "output_type": "stream",
     "text": [
      "0.7234926290317469\n"
     ]
    }
   ],
   "source": [
    "print(f1_score(y_dev, y_pred_combo1, average=\"macro\"))"
   ]
  },
  {
   "cell_type": "code",
   "execution_count": 38,
   "id": "sonic-thumb",
   "metadata": {},
   "outputs": [
    {
     "name": "stdout",
     "output_type": "stream",
     "text": [
      "              precision    recall  f1-score   support\n",
      "\n",
      "        high       0.74      0.74      0.74       384\n",
      "         low       0.67      0.65      0.66       120\n",
      "      medium       0.76      0.77      0.77       596\n",
      "\n",
      "    accuracy                           0.75      1100\n",
      "   macro avg       0.73      0.72      0.72      1100\n",
      "weighted avg       0.75      0.75      0.75      1100\n",
      "\n"
     ]
    }
   ],
   "source": [
    "print(classification_report(y_dev, y_pred_combo1))"
   ]
  },
  {
   "cell_type": "markdown",
   "id": "conventional-server",
   "metadata": {},
   "source": [
    "## 3.2. Combo 2. (LogisticRegression). Lemma *n*-grams (1,3), number of words"
   ]
  },
  {
   "cell_type": "code",
   "execution_count": 41,
   "id": "proved-faith",
   "metadata": {},
   "outputs": [],
   "source": [
    "X_train = train[[\"lemma_text\", \"n_words\"]]\n",
    "y_train = train['Proficiency']\n",
    "\n",
    "X_dev = dev[[\"lemma_text\", \"n_words\"]]\n",
    "y_dev = dev['Proficiency']"
   ]
  },
  {
   "cell_type": "code",
   "execution_count": 45,
   "id": "closed-thread",
   "metadata": {},
   "outputs": [],
   "source": [
    "cvect_tokens = CountVectorizer(tokenizer=nltk__word_tokenizer, ngram_range=(1,3))\n",
    "\n",
    "sc = StandardScaler(with_mean=False) # mean=False to allow to work with sparse vector\n",
    "\n",
    "preprocessor2 = make_column_transformer(\n",
    "    (sc, [\"n_words\"]),\n",
    "    (cvect_tokens, \"lemma_text\"), \n",
    "    remainder=\"passthrough\"\n",
    ")\n",
    "\n",
    "logreg2 = LogisticRegression(multi_class=\"ovr\",\n",
    "                            class_weight=\"balanced\", # uses value of y to automatically adjust weights inversely proportional to class frequencies\n",
    "                            max_iter = 5000,\n",
    "                            n_jobs = -1,\n",
    "                            random_state=1)"
   ]
  },
  {
   "cell_type": "code",
   "execution_count": 46,
   "id": "prostate-tuition",
   "metadata": {},
   "outputs": [],
   "source": [
    "combo2 = make_pipeline(preprocessor2, logreg2, verbose=True)"
   ]
  },
  {
   "cell_type": "code",
   "execution_count": 47,
   "id": "terminal-climb",
   "metadata": {},
   "outputs": [
    {
     "name": "stdout",
     "output_type": "stream",
     "text": [
      "[Pipeline] . (step 1 of 2) Processing columntransformer, total=  30.7s\n",
      "[Pipeline]  (step 2 of 2) Processing logisticregression, total= 7.7min\n"
     ]
    },
    {
     "data": {
      "text/plain": [
       "Pipeline(steps=[('columntransformer',\n",
       "                 ColumnTransformer(remainder='passthrough',\n",
       "                                   transformers=[('standardscaler',\n",
       "                                                  StandardScaler(with_mean=False),\n",
       "                                                  ['n_words']),\n",
       "                                                 ('countvectorizer',\n",
       "                                                  CountVectorizer(ngram_range=(1,\n",
       "                                                                               3),\n",
       "                                                                  tokenizer=<function word_tokenize at 0x7fecec69eb80>),\n",
       "                                                  'lemma_text')])),\n",
       "                ('logisticregression',\n",
       "                 LogisticRegression(class_weight='balanced', max_iter=5000,\n",
       "                                    multi_class='ovr', n_jobs=-1,\n",
       "                                    random_state=1))],\n",
       "         verbose=True)"
      ]
     },
     "execution_count": 47,
     "metadata": {},
     "output_type": "execute_result"
    }
   ],
   "source": [
    "combo2.fit(X_train, y_train)"
   ]
  },
  {
   "cell_type": "code",
   "execution_count": 50,
   "id": "infectious-placement",
   "metadata": {},
   "outputs": [],
   "source": [
    "y_pred_combo2 = combo2.predict(X_dev)"
   ]
  },
  {
   "cell_type": "code",
   "execution_count": 51,
   "id": "ready-district",
   "metadata": {},
   "outputs": [
    {
     "name": "stdout",
     "output_type": "stream",
     "text": [
      "0.7080966071986734\n"
     ]
    }
   ],
   "source": [
    "print(f1_score(y_dev, y_pred_combo2, average=\"macro\"))"
   ]
  },
  {
   "cell_type": "code",
   "execution_count": 52,
   "id": "dynamic-fluid",
   "metadata": {},
   "outputs": [
    {
     "name": "stdout",
     "output_type": "stream",
     "text": [
      "              precision    recall  f1-score   support\n",
      "\n",
      "        high       0.74      0.74      0.74       384\n",
      "         low       0.67      0.65      0.66       120\n",
      "      medium       0.76      0.77      0.77       596\n",
      "\n",
      "    accuracy                           0.75      1100\n",
      "   macro avg       0.73      0.72      0.72      1100\n",
      "weighted avg       0.75      0.75      0.75      1100\n",
      "\n"
     ]
    }
   ],
   "source": [
    "print(classification_report(y_dev, y_pred_combo1))"
   ]
  },
  {
   "cell_type": "markdown",
   "id": "fixed-biodiversity",
   "metadata": {},
   "source": [
    "## 3.3. Combo 3. (LogisticRegression). Token *n*-grams, number of tokens, pos_tags <u>(BEST PERFORMING CLASSIFIER)</u>"
   ]
  },
  {
   "cell_type": "code",
   "execution_count": 121,
   "id": "persistent-produce",
   "metadata": {},
   "outputs": [],
   "source": [
    "from statistics import mean"
   ]
  },
  {
   "cell_type": "code",
   "execution_count": 122,
   "id": "incident-blues",
   "metadata": {},
   "outputs": [
    {
     "name": "stdout",
     "output_type": "stream",
     "text": [
      "high\n",
      "medium\n",
      "low\n"
     ]
    },
    {
     "data": {
      "text/plain": [
       "{'high': 363.2454361054767,\n",
       " 'medium': 306.26657973174366,\n",
       " 'low': 206.29232192414432}"
      ]
     },
     "execution_count": 122,
     "metadata": {},
     "output_type": "execute_result"
    }
   ],
   "source": [
    "level_dict = {}\n",
    "for level in train.Proficiency.unique(): \n",
    "    print(level)\n",
    "    level_dict[level] = mean(train[train[\"Proficiency\"]==level][\"n_words\"])\n",
    "    \n",
    "level_dict"
   ]
  },
  {
   "cell_type": "code",
   "execution_count": 99,
   "id": "central-gross",
   "metadata": {},
   "outputs": [],
   "source": [
    "X_train = train[[\"text\", \"n_words\", \"pos_tags\"]]\n",
    "y_train = train['Proficiency']\n",
    "\n",
    "X_dev = dev[[\"text\", \"n_words\", \"pos_tags\"]]\n",
    "y_dev = dev['Proficiency']"
   ]
  },
  {
   "cell_type": "code",
   "execution_count": 100,
   "id": "regular-copying",
   "metadata": {},
   "outputs": [],
   "source": [
    "cvect_tokens = CountVectorizer(tokenizer=nltk__word_tokenizer, \n",
    "                               ngram_range=(1,3))\n",
    "\n",
    "cvect_pos = CountVectorizer(max_features = 1000,\n",
    "                           ngram_range=(1,3))\n",
    "\n",
    "sc = StandardScaler(with_mean=False) # mean=False to allow to work with sparse vector\n",
    "\n",
    "preprocessor3 = make_column_transformer(\n",
    "    (sc, [\"n_words\"]),\n",
    "    (cvect_tokens, \"text\"), \n",
    "    (cvect_pos, \"pos_tags\"),\n",
    "    remainder=\"passthrough\"\n",
    ")\n",
    "\n",
    "logreg3 = LogisticRegression(multi_class=\"ovr\",\n",
    "                            class_weight=\"balanced\", # uses value of y to automatically adjust weights inversely proportional to class frequencies\n",
    "                            max_iter = 5000,\n",
    "                            n_jobs = -1,\n",
    "                            random_state=1)"
   ]
  },
  {
   "cell_type": "code",
   "execution_count": 105,
   "id": "prompt-wedding",
   "metadata": {},
   "outputs": [],
   "source": [
    "combo3 = make_pipeline(preprocessor3, logreg3, verbose=True)"
   ]
  },
  {
   "cell_type": "code",
   "execution_count": 106,
   "id": "powerful-therapy",
   "metadata": {},
   "outputs": [
    {
     "name": "stdout",
     "output_type": "stream",
     "text": [
      "[Pipeline] . (step 1 of 2) Processing columntransformer, total=  40.0s\n",
      "[Pipeline]  (step 2 of 2) Processing logisticregression, total=20.1min\n"
     ]
    },
    {
     "data": {
      "text/plain": [
       "Pipeline(steps=[('columntransformer',\n",
       "                 ColumnTransformer(remainder='passthrough',\n",
       "                                   transformers=[('standardscaler',\n",
       "                                                  StandardScaler(with_mean=False),\n",
       "                                                  ['n_words']),\n",
       "                                                 ('countvectorizer-1',\n",
       "                                                  CountVectorizer(ngram_range=(1,\n",
       "                                                                               3),\n",
       "                                                                  tokenizer=<function word_tokenize at 0x7fecec69eb80>),\n",
       "                                                  'text'),\n",
       "                                                 ('countvectorizer-2',\n",
       "                                                  CountVectorizer(max_features=1000,\n",
       "                                                                  ngram_range=(1,\n",
       "                                                                               3)),\n",
       "                                                  'pos_tags')])),\n",
       "                ('logisticregression',\n",
       "                 LogisticRegression(class_weight='balanced', max_iter=5000,\n",
       "                                    multi_class='ovr', n_jobs=-1,\n",
       "                                    random_state=1))],\n",
       "         verbose=True)"
      ]
     },
     "execution_count": 106,
     "metadata": {},
     "output_type": "execute_result"
    }
   ],
   "source": [
    "combo3.fit(X_train, y_train)"
   ]
  },
  {
   "cell_type": "code",
   "execution_count": 110,
   "id": "wound-fellowship",
   "metadata": {},
   "outputs": [],
   "source": [
    "y_pred_combo3 = combo3.predict(X_dev)"
   ]
  },
  {
   "cell_type": "code",
   "execution_count": 111,
   "id": "universal-penetration",
   "metadata": {},
   "outputs": [
    {
     "name": "stdout",
     "output_type": "stream",
     "text": [
      "0.7323710965912943\n"
     ]
    }
   ],
   "source": [
    "print(f1_score(y_dev, y_pred_combo3, average=\"macro\"))"
   ]
  },
  {
   "cell_type": "code",
   "execution_count": 112,
   "id": "studied-programming",
   "metadata": {},
   "outputs": [
    {
     "name": "stdout",
     "output_type": "stream",
     "text": [
      "              precision    recall  f1-score   support\n",
      "\n",
      "        high       0.75      0.74      0.75       384\n",
      "         low       0.68      0.67      0.68       120\n",
      "      medium       0.77      0.78      0.78       596\n",
      "\n",
      "    accuracy                           0.75      1100\n",
      "   macro avg       0.73      0.73      0.73      1100\n",
      "weighted avg       0.75      0.75      0.75      1100\n",
      "\n"
     ]
    }
   ],
   "source": [
    "print(classification_report(y_dev, y_pred_combo3))"
   ]
  },
  {
   "cell_type": "code",
   "execution_count": 113,
   "id": "brazilian-computer",
   "metadata": {},
   "outputs": [
    {
     "data": {
      "image/png": "[encoded data removed]",
      "text/plain": [
       "<Figure size 432x288 with 2 Axes>"
      ]
     },
     "metadata": {
      "needs_background": "light"
     },
     "output_type": "display_data"
    }
   ],
   "source": [
    "confusion_matrix = pd.crosstab(y_dev, y_pred_combo3, rownames=['Actual'], colnames=['Predicted']) \n",
    "sn.heatmap(confusion_matrix, annot=True, cmap='Blues', fmt='g')\n",
    "plt.show()"
   ]
  },
  {
   "cell_type": "markdown",
   "id": "regulated-shareware",
   "metadata": {},
   "source": [
    "## 3.4. Combo 4. (LogisticRegression). Token *n*-grams (1,3), number of tokens, POS-tags, function words"
   ]
  },
  {
   "cell_type": "code",
   "execution_count": 71,
   "id": "neither-daughter",
   "metadata": {},
   "outputs": [],
   "source": [
    "X_train = train[[\"text\", \"n_words\", \"pos_tags\", \"stop_words\"]]\n",
    "y_train = train['Proficiency']\n",
    "\n",
    "X_dev = dev[[\"text\", \"n_words\", \"pos_tags\", \"stop_words\"]]\n",
    "y_dev = dev['Proficiency']"
   ]
  },
  {
   "cell_type": "code",
   "execution_count": 73,
   "id": "obvious-transparency",
   "metadata": {},
   "outputs": [],
   "source": [
    "cvect_tokens = CountVectorizer(tokenizer=nltk__word_tokenizer, \n",
    "                               ngram_range=(1,3))\n",
    "\n",
    "cvect_pos = CountVectorizer(max_features = 1000,\n",
    "                           ngram_range=(1,3))\n",
    "\n",
    "sc = StandardScaler(with_mean=False) # mean=False to allow to work with sparse vector\n",
    "\n",
    "preprocessor4 = make_column_transformer(\n",
    "    (sc, [\"n_words\"]),\n",
    "    (cvect_tokens, \"text\"),\n",
    "    (cvect_tokens, \"stop_words\"),\n",
    "    (cvect_pos, \"pos_tags\"),\n",
    "    remainder=\"passthrough\"\n",
    ")\n",
    "\n",
    "logreg4 = LogisticRegression(multi_class=\"ovr\",\n",
    "                            class_weight=\"balanced\", # uses value of y to automatically adjust weights inversely proportional to class frequencies\n",
    "                            max_iter = 5000,\n",
    "                            n_jobs = -1,\n",
    "                            random_state=1)"
   ]
  },
  {
   "cell_type": "code",
   "execution_count": 74,
   "id": "renewable-singapore",
   "metadata": {},
   "outputs": [],
   "source": [
    "combo4 = make_pipeline(preprocessor4, logreg4, verbose=True)"
   ]
  },
  {
   "cell_type": "code",
   "execution_count": 75,
   "id": "official-reasoning",
   "metadata": {},
   "outputs": [
    {
     "name": "stdout",
     "output_type": "stream",
     "text": [
      "[Pipeline] . (step 1 of 2) Processing columntransformer, total=  45.3s\n",
      "[Pipeline]  (step 2 of 2) Processing logisticregression, total=21.3min\n"
     ]
    },
    {
     "data": {
      "text/plain": [
       "Pipeline(steps=[('columntransformer',\n",
       "                 ColumnTransformer(remainder='passthrough',\n",
       "                                   transformers=[('standardscaler',\n",
       "                                                  StandardScaler(with_mean=False),\n",
       "                                                  ['n_words']),\n",
       "                                                 ('countvectorizer-1',\n",
       "                                                  CountVectorizer(ngram_range=(1,\n",
       "                                                                               3),\n",
       "                                                                  tokenizer=<function word_tokenize at 0x7fecec69eb80>),\n",
       "                                                  'text'),\n",
       "                                                 ('countvectorizer-2',\n",
       "                                                  CountVectorizer(ngram_range=(1,\n",
       "                                                                               3),\n",
       "                                                                  tokenizer=<function word_tokenize at 0x7fecec69eb80>),\n",
       "                                                  'stop_words'),\n",
       "                                                 ('countvectorizer-3',\n",
       "                                                  CountVectorizer(max_features=1000,\n",
       "                                                                  ngram_range=(1,\n",
       "                                                                               3)),\n",
       "                                                  'pos_tags')])),\n",
       "                ('logisticregression',\n",
       "                 LogisticRegression(class_weight='balanced', max_iter=5000,\n",
       "                                    multi_class='ovr', n_jobs=-1,\n",
       "                                    random_state=1))],\n",
       "         verbose=True)"
      ]
     },
     "execution_count": 75,
     "metadata": {},
     "output_type": "execute_result"
    }
   ],
   "source": [
    "combo4.fit(X_train, y_train)"
   ]
  },
  {
   "cell_type": "code",
   "execution_count": 76,
   "id": "naval-queensland",
   "metadata": {},
   "outputs": [],
   "source": [
    "y_pred_combo4 = combo4.predict(X_dev)"
   ]
  },
  {
   "cell_type": "code",
   "execution_count": 77,
   "id": "saved-stations",
   "metadata": {},
   "outputs": [
    {
     "name": "stdout",
     "output_type": "stream",
     "text": [
      "0.7317773391885026\n"
     ]
    }
   ],
   "source": [
    "print(f1_score(y_dev, y_pred_combo4, average=\"macro\"))"
   ]
  },
  {
   "cell_type": "code",
   "execution_count": 78,
   "id": "opposed-differential",
   "metadata": {},
   "outputs": [
    {
     "name": "stdout",
     "output_type": "stream",
     "text": [
      "              precision    recall  f1-score   support\n",
      "\n",
      "        high       0.75      0.74      0.75       384\n",
      "         low       0.66      0.68      0.67       120\n",
      "      medium       0.78      0.78      0.78       596\n",
      "\n",
      "    accuracy                           0.76      1100\n",
      "   macro avg       0.73      0.73      0.73      1100\n",
      "weighted avg       0.76      0.76      0.76      1100\n",
      "\n"
     ]
    }
   ],
   "source": [
    "print(classification_report(y_dev, y_pred_combo4))"
   ]
  }
 ],
 "metadata": {
  "kernelspec": {
   "display_name": "Python 3",
   "language": "python",
   "name": "python3"
  },
  "language_info": {
   "codemirror_mode": {
    "name": "ipython",
    "version": 3
   },
   "file_extension": ".py",
   "mimetype": "text/x-python",
   "name": "python",
   "nbconvert_exporter": "python",
   "pygments_lexer": "ipython3",
   "version": "3.8.5"
  }
 },
 "nbformat": 4,
 "nbformat_minor": 5
}
