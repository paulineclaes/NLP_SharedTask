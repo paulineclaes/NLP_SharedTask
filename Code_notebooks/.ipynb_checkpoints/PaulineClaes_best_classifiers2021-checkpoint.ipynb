{
 "cells": [
  {
   "cell_type": "markdown",
   "id": "bright-supplier",
   "metadata": {},
   "source": [
    "# NLP Shared Task 2021\n",
    "\n",
    "This notebook contains the code for the **best** classifiers selected for the NLP shared task, one for Native Language Identification and one for Proficiency Level Identification. These are the models that were used for the predictions on the test set. The same models can also be found in the `PaulineClaes_NLI_notebook` and `PaulineClaes_PLI_notebook`, but were inserted in another notebook just for clarity.\n"
   ]
  },
  {
   "cell_type": "markdown",
   "id": "northern-shepherd",
   "metadata": {},
   "source": [
    "## Native Language Identification"
   ]
  },
  {
   "cell_type": "markdown",
   "id": "fifth-freedom",
   "metadata": {},
   "source": [
    "### 5.2. Stacked 2. Logistic Regression, Stochastic Gradient Descent Classifier, LinearSVC, TfidfVectorizer <u>(BEST PERFORMING CLASSIFIER)</u>\n",
    "<u>Input feature:</u> lemmatized text"
   ]
  },
  {
   "cell_type": "code",
   "execution_count": 8,
   "id": "voluntary-tablet",
   "metadata": {},
   "outputs": [],
   "source": [
    "# train test split\n",
    "X_lemma = df.lemma_text.values\n",
    "y_lemma = df.Language.values\n",
    "\n",
    "X_train_lemma, X_dev_lemma, y_train_lemma, y_dev_lemma = train_test_split(X_lemma,\n",
    "                                                  y_lemma, \n",
    "                                                  test_size=0.1,\n",
    "                                                  random_state=1,\n",
    "                                                  shuffle=True,\n",
    "                                                  stratify=y_lemma)"
   ]
  },
  {
   "cell_type": "code",
   "execution_count": 10,
   "id": "organizational-zambia",
   "metadata": {},
   "outputs": [],
   "source": [
    "tfidf_log_reg = TfidfVectorizer(tokenizer = nltk__word_tokenizer,\n",
    "                               norm=\"l2\", \n",
    "                               ngram_range=(1,1), # unigrams\n",
    "                               min_df = 0.001, # minimally in 0.01%  of documents\n",
    "                               max_df = 0.8, # maximally in 80% of documents\n",
    "                               lowercase=False) # don't lowercase\n",
    "log_reg = LogisticRegression(multi_class=\"ovr\", # one vs. rest\n",
    "                             max_iter=2500,  # max iterations\n",
    "                             C = 1.0, # inverse regularization strength\n",
    "                             random_state=1)\n",
    "#####\n",
    "\n",
    "tfidf_sgd = TfidfVectorizer(tokenizer = nltk__word_tokenizer, \n",
    "                            norm=\"l2\", \n",
    "                            ngram_range=(1,4), # uni, bi, tri and fourgrams\n",
    "                            min_df = 0.1, # minimally in 10% of documents\n",
    "                            max_df = 1.0,  # all documents\n",
    "                            lowercase=True) # lowercase\n",
    "sgd = SGDClassifier(penalty = \"l1\", \n",
    "                    max_iter = 1000, # max iterations\n",
    "                    loss = \"hinge\", \n",
    "                    alpha = 0.0001, # default\n",
    "                    random_state=1)\n",
    "\n",
    "#####\n",
    "\n",
    "tfidf_linear_svc = TfidfVectorizer(tokenizer = nltk__word_tokenizer,\n",
    "                                  norm = \"l2\", \n",
    "                                  ngram_range=(1,3), # uni bi and trigrams\n",
    "                                  min_df = 0.001, # minimally in 0.01% of documents\n",
    "                                  max_df = 0.8, # maximally in 80% of documents\n",
    "                                  lowercase=False) # don't lowercase\n",
    "linear_svc = LinearSVC(max_iter = 1000, # default\n",
    "                       C = 1.0,  # default\n",
    "                       random_state=1)\n",
    "\n",
    "#####\n",
    "\n",
    "final_logreg = LogisticRegression(multi_class=\"multinomial\",\n",
    "                                 max_iter=1000)\n",
    "\n",
    "stacked2 = StackingClassifier(estimators=[('pipe1', make_pipeline(tfidf_log_reg, log_reg, verbose=True)),\n",
    "                                          ('pipe2', make_pipeline(tfidf_sgd, sgd, verbose=True)),\n",
    "                                          ('pipe3', make_pipeline(tfidf_linear_svc, linear_svc, verbose=True))],\n",
    "                              final_estimator=final_logreg,\n",
    "                              verbose=1)\n"
   ]
  },
  {
   "cell_type": "code",
   "execution_count": 11,
   "id": "friendly-patient",
   "metadata": {},
   "outputs": [
    {
     "name": "stdout",
     "output_type": "stream",
     "text": [
      "[Pipeline] ... (step 1 of 2) Processing tfidfvectorizer, total=  18.8s\n",
      "[Pipeline]  (step 2 of 2) Processing logisticregression, total=   2.4s\n",
      "[Pipeline] ... (step 1 of 2) Processing tfidfvectorizer, total=  33.4s\n",
      "[Pipeline] ..... (step 2 of 2) Processing sgdclassifier, total=   1.8s\n",
      "[Pipeline] ... (step 1 of 2) Processing tfidfvectorizer, total=  27.0s\n",
      "[Pipeline] ......... (step 2 of 2) Processing linearsvc, total=   2.9s\n"
     ]
    },
    {
     "name": "stderr",
     "output_type": "stream",
     "text": [
      "[Parallel(n_jobs=1)]: Using backend SequentialBackend with 1 concurrent workers.\n"
     ]
    },
    {
     "name": "stdout",
     "output_type": "stream",
     "text": [
      "[Pipeline] ... (step 1 of 2) Processing tfidfvectorizer, total=  14.3s\n",
      "[Pipeline]  (step 2 of 2) Processing logisticregression, total=   1.8s\n",
      "[Pipeline] ... (step 1 of 2) Processing tfidfvectorizer, total=  14.7s\n",
      "[Pipeline]  (step 2 of 2) Processing logisticregression, total=   2.0s\n",
      "[Pipeline] ... (step 1 of 2) Processing tfidfvectorizer, total=  14.6s\n",
      "[Pipeline]  (step 2 of 2) Processing logisticregression, total=   1.9s\n",
      "[Pipeline] ... (step 1 of 2) Processing tfidfvectorizer, total=  14.3s\n",
      "[Pipeline]  (step 2 of 2) Processing logisticregression, total=   2.3s\n",
      "[Pipeline] ... (step 1 of 2) Processing tfidfvectorizer, total=  15.1s\n",
      "[Pipeline]  (step 2 of 2) Processing logisticregression, total=   1.8s\n"
     ]
    },
    {
     "name": "stderr",
     "output_type": "stream",
     "text": [
      "[Parallel(n_jobs=1)]: Done   5 out of   5 | elapsed:  1.7min finished\n",
      "[Parallel(n_jobs=1)]: Using backend SequentialBackend with 1 concurrent workers.\n"
     ]
    },
    {
     "name": "stdout",
     "output_type": "stream",
     "text": [
      "[Pipeline] ... (step 1 of 2) Processing tfidfvectorizer, total=  27.2s\n",
      "[Pipeline] ..... (step 2 of 2) Processing sgdclassifier, total=   1.6s\n",
      "[Pipeline] ... (step 1 of 2) Processing tfidfvectorizer, total=  26.9s\n",
      "[Pipeline] ..... (step 2 of 2) Processing sgdclassifier, total=   1.6s\n",
      "[Pipeline] ... (step 1 of 2) Processing tfidfvectorizer, total=  26.5s\n",
      "[Pipeline] ..... (step 2 of 2) Processing sgdclassifier, total=   1.6s\n",
      "[Pipeline] ... (step 1 of 2) Processing tfidfvectorizer, total=  26.4s\n",
      "[Pipeline] ..... (step 2 of 2) Processing sgdclassifier, total=   1.3s\n",
      "[Pipeline] ... (step 1 of 2) Processing tfidfvectorizer, total=  26.2s\n",
      "[Pipeline] ..... (step 2 of 2) Processing sgdclassifier, total=   1.4s\n"
     ]
    },
    {
     "name": "stderr",
     "output_type": "stream",
     "text": [
      "[Parallel(n_jobs=1)]: Done   5 out of   5 | elapsed:  2.8min finished\n",
      "[Parallel(n_jobs=1)]: Using backend SequentialBackend with 1 concurrent workers.\n"
     ]
    },
    {
     "name": "stdout",
     "output_type": "stream",
     "text": [
      "[Pipeline] ... (step 1 of 2) Processing tfidfvectorizer, total=  21.5s\n",
      "[Pipeline] ......... (step 2 of 2) Processing linearsvc, total=   2.3s\n",
      "[Pipeline] ... (step 1 of 2) Processing tfidfvectorizer, total=  20.9s\n",
      "[Pipeline] ......... (step 2 of 2) Processing linearsvc, total=   2.4s\n",
      "[Pipeline] ... (step 1 of 2) Processing tfidfvectorizer, total=  21.3s\n",
      "[Pipeline] ......... (step 2 of 2) Processing linearsvc, total=   2.2s\n",
      "[Pipeline] ... (step 1 of 2) Processing tfidfvectorizer, total=  20.7s\n",
      "[Pipeline] ......... (step 2 of 2) Processing linearsvc, total=   2.2s\n",
      "[Pipeline] ... (step 1 of 2) Processing tfidfvectorizer, total=  21.2s\n",
      "[Pipeline] ......... (step 2 of 2) Processing linearsvc, total=   2.3s\n"
     ]
    },
    {
     "name": "stderr",
     "output_type": "stream",
     "text": [
      "[Parallel(n_jobs=1)]: Done   5 out of   5 | elapsed:  2.3min finished\n"
     ]
    },
    {
     "data": {
      "text/plain": [
       "StackingClassifier(estimators=[('pipe1',\n",
       "                                Pipeline(steps=[('tfidfvectorizer',\n",
       "                                                 TfidfVectorizer(lowercase=False,\n",
       "                                                                 max_df=0.8,\n",
       "                                                                 min_df=0.001,\n",
       "                                                                 tokenizer=<function word_tokenize at 0x7fae3987cf70>)),\n",
       "                                                ('logisticregression',\n",
       "                                                 LogisticRegression(max_iter=2500,\n",
       "                                                                    multi_class='ovr',\n",
       "                                                                    random_state=1))],\n",
       "                                         verbose=True)),\n",
       "                               ('pipe2',\n",
       "                                Pipeline(steps=[('tfidfvectorizer',\n",
       "                                                 TfidfVectorizer(m...\n",
       "                                                 SGDClassifier(penalty='l1',\n",
       "                                                               random_state=1))],\n",
       "                                         verbose=True)),\n",
       "                               ('pipe3',\n",
       "                                Pipeline(steps=[('tfidfvectorizer',\n",
       "                                                 TfidfVectorizer(lowercase=False,\n",
       "                                                                 max_df=0.8,\n",
       "                                                                 min_df=0.001,\n",
       "                                                                 ngram_range=(1,\n",
       "                                                                              3),\n",
       "                                                                 tokenizer=<function word_tokenize at 0x7fae3987cf70>)),\n",
       "                                                ('linearsvc',\n",
       "                                                 LinearSVC(random_state=1))],\n",
       "                                         verbose=True))],\n",
       "                   final_estimator=LogisticRegression(max_iter=1000,\n",
       "                                                      multi_class='multinomial'),\n",
       "                   verbose=1)"
      ]
     },
     "execution_count": 11,
     "metadata": {},
     "output_type": "execute_result"
    }
   ],
   "source": [
    "stacked2.fit(X_train_lemma, y_train_lemma)"
   ]
  },
  {
   "cell_type": "code",
   "execution_count": 12,
   "id": "dedicated-fifth",
   "metadata": {},
   "outputs": [],
   "source": [
    "y_pred_stacked2 = stacked2.predict(X_dev_lemma)"
   ]
  },
  {
   "cell_type": "code",
   "execution_count": 14,
   "id": "infinite-projector",
   "metadata": {},
   "outputs": [
    {
     "name": "stdout",
     "output_type": "stream",
     "text": [
      "0.8336363636363636\n"
     ]
    }
   ],
   "source": [
    "print(accuracy_score(y_dev_lemma, y_pred_stacked2))"
   ]
  },
  {
   "cell_type": "code",
   "execution_count": 16,
   "id": "operating-interaction",
   "metadata": {},
   "outputs": [
    {
     "name": "stdout",
     "output_type": "stream",
     "text": [
      "              precision    recall  f1-score   support\n",
      "\n",
      "         ARA       0.82      0.79      0.81       100\n",
      "         DEU       0.90      0.93      0.92       100\n",
      "         FRA       0.81      0.87      0.84       100\n",
      "         HIN       0.80      0.77      0.79       100\n",
      "         ITA       0.89      0.90      0.90       100\n",
      "         JPN       0.83      0.80      0.82       100\n",
      "         KOR       0.80      0.77      0.79       100\n",
      "         SPA       0.84      0.77      0.80       100\n",
      "         TEL       0.82      0.83      0.83       100\n",
      "         TUR       0.84      0.86      0.85       100\n",
      "         ZHO       0.80      0.88      0.84       100\n",
      "\n",
      "    accuracy                           0.83      1100\n",
      "   macro avg       0.83      0.83      0.83      1100\n",
      "weighted avg       0.83      0.83      0.83      1100\n",
      "\n"
     ]
    }
   ],
   "source": [
    "print(classification_report(y_dev_lemma, y_pred_stacked2))"
   ]
  },
  {
   "cell_type": "code",
   "execution_count": 19,
   "id": "legal-collapse",
   "metadata": {},
   "outputs": [
    {
     "data": {
      "image/png": "[encoded data removed]",
      "text/plain": [
       "<Figure size 432x288 with 2 Axes>"
      ]
     },
     "metadata": {
      "needs_background": "light"
     },
     "output_type": "display_data"
    }
   ],
   "source": [
    "confusion_matrix = pd.crosstab(y_dev_lemma, y_pred_stacked2, rownames=['Actual'], colnames=['Predicted']) \n",
    "sn.heatmap(confusion_matrix, annot=True, cmap='Blues', fmt='g')\n",
    "plt.show()"
   ]
  },
  {
   "cell_type": "markdown",
   "id": "armed-victory",
   "metadata": {},
   "source": [
    "## Proficiency Level Identification"
   ]
  },
  {
   "cell_type": "markdown",
   "id": "interested-anthony",
   "metadata": {},
   "source": [
    "### 3.3. Combo 3. (LogisticRegression). Token *n*-grams, number of tokens, pos_tags <u>(BEST PERFORMING CLASSIFIER)</u>"
   ]
  },
  {
   "cell_type": "code",
   "execution_count": 121,
   "id": "verified-green",
   "metadata": {},
   "outputs": [],
   "source": [
    "from statistics import mean"
   ]
  },
  {
   "cell_type": "code",
   "execution_count": 122,
   "id": "tight-pierce",
   "metadata": {},
   "outputs": [
    {
     "name": "stdout",
     "output_type": "stream",
     "text": [
      "high\n",
      "medium\n",
      "low\n"
     ]
    },
    {
     "data": {
      "text/plain": [
       "{'high': 363.2454361054767,\n",
       " 'medium': 306.26657973174366,\n",
       " 'low': 206.29232192414432}"
      ]
     },
     "execution_count": 122,
     "metadata": {},
     "output_type": "execute_result"
    }
   ],
   "source": [
    "# calculate average amount of tokens per proficiency level\n",
    "level_dict = {}\n",
    "for level in train.Proficiency.unique(): \n",
    "    print(level)\n",
    "    level_dict[level] = mean(train[train[\"Proficiency\"]==level][\"n_words\"])\n",
    "    \n",
    "level_dict"
   ]
  },
  {
   "cell_type": "code",
   "execution_count": 99,
   "id": "aging-decrease",
   "metadata": {},
   "outputs": [],
   "source": [
    "X_train = train[[\"text\", \"n_words\", \"pos_tags\"]] # select columns\n",
    "y_train = train['Proficiency']\n",
    "\n",
    "X_dev = dev[[\"text\", \"n_words\", \"pos_tags\"]]\n",
    "y_dev = dev['Proficiency']"
   ]
  },
  {
   "cell_type": "code",
   "execution_count": 100,
   "id": "quantitative-roman",
   "metadata": {},
   "outputs": [],
   "source": [
    "cvect_tokens = CountVectorizer(tokenizer=nltk__word_tokenizer, \n",
    "                               ngram_range=(1,3)) # uni, bi and trigrams\n",
    "\n",
    "cvect_pos = CountVectorizer(max_features = 1000, # take into account top 1000 features\n",
    "                           ngram_range=(1,3)) # uni bi and trigrams\n",
    "\n",
    "sc = StandardScaler(with_mean=False) # mean=False to allow to work with sparse vector\n",
    "\n",
    "preprocessor3 = make_column_transformer(\n",
    "    (sc, [\"n_words\"]), # scaler for number of words\n",
    "    (cvect_tokens, \"text\"), \n",
    "    (cvect_pos, \"pos_tags\"),\n",
    "    remainder=\"passthrough\"\n",
    ")\n",
    "\n",
    "logreg3 = LogisticRegression(multi_class=\"ovr\",\n",
    "                            class_weight=\"balanced\", # uses value of y to automatically adjust weights inversely proportional to class frequencies\n",
    "                            max_iter = 5000, # max nr of iterations\n",
    "                            n_jobs = -1, # use all processors\n",
    "                            random_state=1)"
   ]
  },
  {
   "cell_type": "code",
   "execution_count": 105,
   "id": "knowing-hampshire",
   "metadata": {},
   "outputs": [],
   "source": [
    "combo3 = make_pipeline(preprocessor3, logreg3, verbose=True)"
   ]
  },
  {
   "cell_type": "code",
   "execution_count": 106,
   "id": "proper-taiwan",
   "metadata": {},
   "outputs": [
    {
     "name": "stdout",
     "output_type": "stream",
     "text": [
      "[Pipeline] . (step 1 of 2) Processing columntransformer, total=  40.0s\n",
      "[Pipeline]  (step 2 of 2) Processing logisticregression, total=20.1min\n"
     ]
    },
    {
     "data": {
      "text/plain": [
       "Pipeline(steps=[('columntransformer',\n",
       "                 ColumnTransformer(remainder='passthrough',\n",
       "                                   transformers=[('standardscaler',\n",
       "                                                  StandardScaler(with_mean=False),\n",
       "                                                  ['n_words']),\n",
       "                                                 ('countvectorizer-1',\n",
       "                                                  CountVectorizer(ngram_range=(1,\n",
       "                                                                               3),\n",
       "                                                                  tokenizer=<function word_tokenize at 0x7fecec69eb80>),\n",
       "                                                  'text'),\n",
       "                                                 ('countvectorizer-2',\n",
       "                                                  CountVectorizer(max_features=1000,\n",
       "                                                                  ngram_range=(1,\n",
       "                                                                               3)),\n",
       "                                                  'pos_tags')])),\n",
       "                ('logisticregression',\n",
       "                 LogisticRegression(class_weight='balanced', max_iter=5000,\n",
       "                                    multi_class='ovr', n_jobs=-1,\n",
       "                                    random_state=1))],\n",
       "         verbose=True)"
      ]
     },
     "execution_count": 106,
     "metadata": {},
     "output_type": "execute_result"
    }
   ],
   "source": [
    "combo3.fit(X_train, y_train)"
   ]
  },
  {
   "cell_type": "code",
   "execution_count": 110,
   "id": "domestic-directory",
   "metadata": {},
   "outputs": [],
   "source": [
    "y_pred_combo3 = combo3.predict(X_dev)"
   ]
  },
  {
   "cell_type": "code",
   "execution_count": 111,
   "id": "threatened-neighborhood",
   "metadata": {},
   "outputs": [
    {
     "name": "stdout",
     "output_type": "stream",
     "text": [
      "0.7323710965912943\n"
     ]
    }
   ],
   "source": [
    "print(f1_score(y_dev, y_pred_combo3, average=\"macro\"))"
   ]
  },
  {
   "cell_type": "code",
   "execution_count": 112,
   "id": "residential-inside",
   "metadata": {},
   "outputs": [
    {
     "name": "stdout",
     "output_type": "stream",
     "text": [
      "              precision    recall  f1-score   support\n",
      "\n",
      "        high       0.75      0.74      0.75       384\n",
      "         low       0.68      0.67      0.68       120\n",
      "      medium       0.77      0.78      0.78       596\n",
      "\n",
      "    accuracy                           0.75      1100\n",
      "   macro avg       0.73      0.73      0.73      1100\n",
      "weighted avg       0.75      0.75      0.75      1100\n",
      "\n"
     ]
    }
   ],
   "source": [
    "print(classification_report(y_dev, y_pred_combo3))"
   ]
  },
  {
   "cell_type": "code",
   "execution_count": 113,
   "id": "danish-wrestling",
   "metadata": {},
   "outputs": [
    {
     "data": {
      "image/png": "[encoded data removed]",
      "text/plain": [
       "<Figure size 432x288 with 2 Axes>"
      ]
     },
     "metadata": {
      "needs_background": "light"
     },
     "output_type": "display_data"
    }
   ],
   "source": [
    "confusion_matrix = pd.crosstab(y_dev, y_pred_combo3, rownames=['Actual'], colnames=['Predicted']) \n",
    "sn.heatmap(confusion_matrix, annot=True, cmap='Blues', fmt='g')\n",
    "plt.show()"
   ]
  }
 ],
 "metadata": {
  "kernelspec": {
   "display_name": "Python 3",
   "language": "python",
   "name": "python3"
  },
  "language_info": {
   "codemirror_mode": {
    "name": "ipython",
    "version": 3
   },
   "file_extension": ".py",
   "mimetype": "text/x-python",
   "name": "python",
   "nbconvert_exporter": "python",
   "pygments_lexer": "ipython3",
   "version": "3.8.5"
  }
 },
 "nbformat": 4,
 "nbformat_minor": 5
}
